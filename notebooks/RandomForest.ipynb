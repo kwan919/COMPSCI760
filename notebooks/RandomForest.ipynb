{
 "cells": [
  {
   "cell_type": "code",
   "execution_count": 1,
   "metadata": {},
   "outputs": [],
   "source": [
    "import pandas as pd\n",
    "import sys\n",
    "import os\n",
    "\n",
    "from pandas import DataFrame\n",
    "from sklearn.ensemble import RandomForestClassifier\n",
    "from sklearn.model_selection import train_test_split\n",
    "from sklearn import metrics"
   ]
  },
  {
   "cell_type": "code",
   "execution_count": 2,
   "metadata": {},
   "outputs": [],
   "source": [
    "module_path = os.path.abspath(os.path.join('..'))\n",
    "if module_path not in sys.path:\n",
    "    sys.path.append(module_path+\"/models\")"
   ]
  },
  {
   "cell_type": "code",
   "execution_count": 3,
   "metadata": {},
   "outputs": [],
   "source": [
    "from Classical_ML_Test import CML_Test\n",
    "from format_data import Restructure\n",
    "from signal_processing import normalize_data, add_WGN, add_rayleigh"
   ]
  },
  {
   "cell_type": "code",
   "execution_count": 4,
   "metadata": {},
   "outputs": [],
   "source": [
    "RANDOM_STATE = 1234"
   ]
  },
  {
   "cell_type": "markdown",
   "metadata": {},
   "source": [
    "# Read all undamaged bearing dataset "
   ]
  },
  {
   "cell_type": "code",
   "execution_count": 5,
   "metadata": {},
   "outputs": [
    {
     "name": "stdout",
     "output_type": "stream",
     "text": [
      "Start convert K001 - K 0\n",
      "Start convert K001 - K 1\n",
      "Start convert K001 - K 2\n",
      "Start convert K001 - K 3\n",
      "Start convert K002 - K 0\n",
      "Start convert K002 - K 1\n",
      "Start convert K002 - K 2\n",
      "Start convert K002 - K 3\n",
      "Start convert K003 - K 0\n",
      "Start convert K003 - K 1\n",
      "Start convert K003 - K 2\n",
      "Start convert K003 - K 3\n",
      "Start convert K004 - K 0\n",
      "Start convert K004 - K 1\n",
      "Start convert K004 - K 2\n",
      "Start convert K004 - K 3\n",
      "Start convert K005 - K 0\n",
      "Start convert K005 - K 1\n",
      "Start convert K005 - K 2\n",
      "Start convert K005 - K 3\n",
      "Start convert K006 - K 0\n",
      "Start convert K006 - K 1\n",
      "Start convert K006 - K 2\n",
      "Start convert K006 - K 3\n"
     ]
    }
   ],
   "source": [
    "healthy_name_list = [\"K001\", \"K002\", \"K003\", \"K004\", \"K005\", \"K006\"]\n",
    "healthy_df_list = []\n",
    "for k_name in healthy_name_list:\n",
    "    for i in range(4):\n",
    "        df = pd.read_csv(\"../data/processed/paderborn/down_sampled/\" + k_name + \"_K\" + str(i) + \"_down.csv\", engine='c', low_memory=False, memory_map=True)\n",
    "        del df[\"temp\"]\n",
    "        print(\"Start convert\", k_name, \"- K\", i)\n",
    "        healthy_df_list.append(df)\n",
    "healthy_df = pd.concat(healthy_df_list, ignore_index=True)"
   ]
  },
  {
   "cell_type": "markdown",
   "metadata": {},
   "source": [
    "# Read all inner ring damaged bearing"
   ]
  },
  {
   "cell_type": "code",
   "execution_count": 6,
   "metadata": {},
   "outputs": [
    {
     "name": "stdout",
     "output_type": "stream",
     "text": [
      "Start convert KA01 - K 0\n",
      "Start convert KA01 - K 1\n",
      "Start convert KA01 - K 2\n",
      "Start convert KA01 - K 3\n",
      "Start convert KA03 - K 0\n",
      "Start convert KA03 - K 1\n",
      "Start convert KA03 - K 2\n",
      "Start convert KA03 - K 3\n",
      "Start convert KA05 - K 0\n",
      "Start convert KA05 - K 1\n",
      "Start convert KA05 - K 2\n",
      "Start convert KA05 - K 3\n",
      "Start convert KA06 - K 0\n",
      "Start convert KA06 - K 1\n",
      "Start convert KA06 - K 2\n",
      "Start convert KA06 - K 3\n",
      "Start convert KA07 - K 0\n",
      "Start convert KA07 - K 1\n",
      "Start convert KA07 - K 2\n",
      "Start convert KA07 - K 3\n",
      "Start convert KA08 - K 0\n",
      "Start convert KA08 - K 1\n",
      "Start convert KA08 - K 2\n",
      "Start convert KA08 - K 3\n",
      "Start convert KA09 - K 0\n",
      "Start convert KA09 - K 1\n",
      "Start convert KA09 - K 2\n",
      "Start convert KA09 - K 3\n",
      "Start convert KA04 - K 0\n",
      "Start convert KA04 - K 1\n",
      "Start convert KA04 - K 2\n",
      "Start convert KA04 - K 3\n",
      "Start convert KA15 - K 0\n",
      "Start convert KA15 - K 1\n",
      "Start convert KA15 - K 2\n",
      "Start convert KA15 - K 3\n",
      "Start convert KA16 - K 0\n",
      "Start convert KA16 - K 1\n",
      "Start convert KA16 - K 2\n",
      "Start convert KA16 - K 3\n",
      "Start convert KA22 - K 0\n",
      "Start convert KA22 - K 1\n",
      "Start convert KA22 - K 2\n",
      "Start convert KA22 - K 3\n",
      "Start convert KA30 - K 0\n",
      "Start convert KA30 - K 1\n",
      "Start convert KA30 - K 2\n",
      "Start convert KA30 - K 3\n"
     ]
    }
   ],
   "source": [
    "ir_name_list = [\"KA01\", \"KA03\", \"KA05\", \"KA06\", \"KA07\", \"KA08\", \"KA09\", \"KA04\", \"KA15\", \"KA16\", \"KA22\", \"KA30\"]\n",
    "ir_df_list = []\n",
    "for k_name in ir_name_list:\n",
    "    for i in range(4):\n",
    "        df = pd.read_csv(\"../data/processed/paderborn/down_sampled/\" + k_name + \"_K\" + str(i) + \"_down.csv\", engine='c', low_memory=False, memory_map=True)\n",
    "        del df[\"temp\"]\n",
    "        print(\"Start convert\", k_name, \"- K\", i)\n",
    "        ir_df_list.append(df)\n",
    "ir_df = pd.concat(ir_df_list, ignore_index=True)"
   ]
  },
  {
   "cell_type": "markdown",
   "metadata": {},
   "source": [
    "# Read all outer ring bearing data"
   ]
  },
  {
   "cell_type": "code",
   "execution_count": 7,
   "metadata": {},
   "outputs": [
    {
     "name": "stdout",
     "output_type": "stream",
     "text": [
      "Start convert KI01 - K 0\n",
      "Start convert KI01 - K 1\n",
      "Start convert KI01 - K 2\n",
      "Start convert KI01 - K 3\n",
      "Start convert KI03 - K 0\n",
      "Start convert KI03 - K 1\n",
      "Start convert KI03 - K 2\n",
      "Start convert KI03 - K 3\n",
      "Start convert KI04 - K 0\n",
      "Start convert KI04 - K 1\n",
      "Start convert KI04 - K 2\n",
      "Start convert KI04 - K 3\n",
      "Start convert KI05 - K 0\n",
      "Start convert KI05 - K 1\n",
      "Start convert KI05 - K 2\n",
      "Start convert KI05 - K 3\n",
      "Start convert KI07 - K 0\n",
      "Start convert KI07 - K 1\n",
      "Start convert KI07 - K 2\n",
      "Start convert KI07 - K 3\n",
      "Start convert KI08 - K 0\n",
      "Start convert KI08 - K 1\n",
      "Start convert KI08 - K 2\n",
      "Start convert KI08 - K 3\n",
      "Start convert KI14 - K 0\n",
      "Start convert KI14 - K 1\n",
      "Start convert KI14 - K 2\n",
      "Start convert KI14 - K 3\n",
      "Start convert KI16 - K 0\n",
      "Start convert KI16 - K 1\n",
      "Start convert KI16 - K 2\n",
      "Start convert KI16 - K 3\n",
      "Start convert KI17 - K 0\n",
      "Start convert KI17 - K 1\n",
      "Start convert KI17 - K 2\n",
      "Start convert KI17 - K 3\n",
      "Start convert KI18 - K 0\n",
      "Start convert KI18 - K 1\n",
      "Start convert KI18 - K 2\n",
      "Start convert KI18 - K 3\n",
      "Start convert KI21 - K 0\n",
      "Start convert KI21 - K 1\n",
      "Start convert KI21 - K 2\n",
      "Start convert KI21 - K 3\n"
     ]
    }
   ],
   "source": [
    "or_name_list = [\"KI01\", \"KI03\", \"KI04\", \"KI05\", \"KI07\", \"KI08\", \"KI14\", \"KI16\", \"KI17\", \"KI18\", \"KI21\"]\n",
    "# \"KB23\", \"KB24\", \"KB27\" are IR + OR\n",
    "or_df_list = []\n",
    "for k_name in or_name_list:\n",
    "    for i in range(4):\n",
    "        df = pd.read_csv(\"../data/processed/paderborn/down_sampled/\" + k_name + \"_K\" + str(i) + \"_down.csv\", engine='c', low_memory=False, memory_map=True)\n",
    "        del df[\"temp\"]\n",
    "        print(\"Start convert\", k_name, \"- K\", i)\n",
    "        or_df_list.append(df)\n",
    "or_df = pd.concat(or_df_list, ignore_index=True)"
   ]
  },
  {
   "cell_type": "markdown",
   "metadata": {},
   "source": [
    "# Windows all data"
   ]
  },
  {
   "cell_type": "code",
   "execution_count": 8,
   "metadata": {},
   "outputs": [
    {
     "name": "stderr",
     "output_type": "stream",
     "text": [
      "100%|██████████| 153440/153440 [00:00<00:00, 816099.99it/s]\n",
      "100%|██████████| 305200/305200 [00:00<00:00, 833760.44it/s]\n",
      "100%|██████████| 280000/280000 [00:00<00:00, 832006.26it/s]\n"
     ]
    }
   ],
   "source": [
    "healthy_windows_df = Restructure(healthy_df).to_windows(50)\n",
    "ir_windows_df = Restructure(ir_df).to_windows(50)\n",
    "or_windows_df = Restructure(or_df).to_windows(50)"
   ]
  },
  {
   "cell_type": "markdown",
   "metadata": {},
   "source": [
    "# Label all data"
   ]
  },
  {
   "cell_type": "code",
   "execution_count": 9,
   "metadata": {},
   "outputs": [],
   "source": [
    "healthy_windows_df[\"label\"] = 1\n",
    "ir_windows_df[\"label\"] = 2\n",
    "or_windows_df[\"label\"] = 3"
   ]
  },
  {
   "cell_type": "markdown",
   "metadata": {},
   "source": [
    "# Test Baseline"
   ]
  },
  {
   "cell_type": "code",
   "execution_count": 10,
   "metadata": {},
   "outputs": [],
   "source": [
    "all_data = pd.concat([healthy_windows_df, ir_windows_df, or_windows_df])\n",
    "X, y = all_data.loc[:, all_data.columns != 'label'], all_data[[\"label\"]]"
   ]
  },
  {
   "cell_type": "code",
   "execution_count": 11,
   "metadata": {},
   "outputs": [
    {
     "name": "stdout",
     "output_type": "stream",
     "text": [
      "Accuracy: 0.9280502003682444\n"
     ]
    }
   ],
   "source": [
    "X_train, X_test, y_train, y_test = train_test_split(X, y, test_size=0.2, random_state=1234)\n",
    "clf = RandomForestClassifier(n_estimators=20, random_state=1234)\n",
    "clf.fit(X_train, y_train.values.ravel())\n",
    "y_predict = clf.predict(X_test)\n",
    "print(\"Accuracy:\", metrics.accuracy_score(y_test, y_predict))"
   ]
  },
  {
   "cell_type": "code",
   "execution_count": 12,
   "metadata": {},
   "outputs": [
    {
     "data": {
      "text/plain": [
       "<sklearn.metrics._plot.confusion_matrix.ConfusionMatrixDisplay at 0x2b36d1ebfd0>"
      ]
     },
     "execution_count": 12,
     "metadata": {},
     "output_type": "execute_result"
    },
    {
     "data": {
      "image/png": "[encoded data removed]",
      "text/plain": [
       "<Figure size 432x288 with 2 Axes>"
      ]
     },
     "metadata": {
      "needs_background": "light"
     },
     "output_type": "display_data"
    }
   ],
   "source": [
    "metrics.ConfusionMatrixDisplay.from_predictions(y_test, y_predict)"
   ]
  },
  {
   "cell_type": "markdown",
   "metadata": {},
   "source": [
    "# Add WGN"
   ]
  },
  {
   "cell_type": "markdown",
   "metadata": {},
   "source": [
    "- Set different ratio"
   ]
  },
  {
   "cell_type": "code",
   "execution_count": 13,
   "metadata": {},
   "outputs": [],
   "source": [
    "ratio_list = [-4, 0, 4, 8]"
   ]
  },
  {
   "cell_type": "markdown",
   "metadata": {},
   "source": [
    "- Split data into train and test"
   ]
  },
  {
   "cell_type": "code",
   "execution_count": 14,
   "metadata": {},
   "outputs": [],
   "source": [
    "healthy_train_df, healthy_test_df = train_test_split(healthy_df, test_size=0.2, random_state=RANDOM_STATE)\n",
    "or_train_df, or_test_df = train_test_split(or_df, test_size=0.2, random_state=RANDOM_STATE)\n",
    "ir_train_df, ir_test_df = train_test_split(ir_df, test_size=0.2, random_state=RANDOM_STATE)"
   ]
  },
  {
   "cell_type": "markdown",
   "metadata": {},
   "source": [
    "- Normalize data"
   ]
  },
  {
   "cell_type": "code",
   "execution_count": 15,
   "metadata": {},
   "outputs": [],
   "source": [
    "def norm_all(df: DataFrame) -> DataFrame:\n",
    "    for col in df.columns:\n",
    "        df[col] = normalize_data(df[col])\n",
    "    return df"
   ]
  },
  {
   "cell_type": "code",
   "execution_count": 16,
   "metadata": {},
   "outputs": [
    {
     "name": "stdout",
     "output_type": "stream",
     "text": [
      "2969653131920\n",
      "2969653131920\n",
      "2967965711184\n",
      "2967966096160\n",
      "2969653131776\n",
      "2967966096448\n",
      "2967966095824\n"
     ]
    }
   ],
   "source": [
    "healthy_train_df = norm_all(healthy_train_df)\n",
    "or_train_df = norm_all(or_train_df)\n",
    "ir_train_df = norm_all(ir_train_df)\n",
    "healthy_test_df = norm_all(healthy_test_df)\n",
    "or_test_df = norm_all(or_test_df)\n",
    "ir_test_df = norm_all(ir_test_df)"
   ]
  },
  {
   "cell_type": "markdown",
   "metadata": {},
   "source": [
    "- Windows train and label it"
   ]
  },
  {
   "cell_type": "code",
   "execution_count": 17,
   "metadata": {},
   "outputs": [
    {
     "name": "stderr",
     "output_type": "stream",
     "text": [
      "100%|██████████| 122752/122752 [00:00<00:00, 791105.25it/s]\n",
      "100%|██████████| 244160/244160 [00:00<00:00, 390290.94it/s]\n",
      "100%|██████████| 224000/224000 [00:00<00:00, 544687.33it/s]\n"
     ]
    }
   ],
   "source": [
    "healthy_train_df = Restructure(healthy_train_df).to_windows(50)\n",
    "ir_train_df = Restructure(ir_train_df).to_windows(50)\n",
    "or_train_df = Restructure(or_train_df).to_windows(50)\n",
    "\n",
    "healthy_train_df[\"label\"] = 1\n",
    "ir_train_df[\"label\"] = 2\n",
    "or_train_df[\"label\"] = 3\n",
    "\n",
    "train_data = pd.concat([healthy_train_df, ir_train_df, or_train_df])"
   ]
  },
  {
   "cell_type": "markdown",
   "metadata": {},
   "source": [
    "- Add noise to test, add labels and to windows"
   ]
  },
  {
   "cell_type": "code",
   "execution_count": 18,
   "metadata": {},
   "outputs": [],
   "source": [
    "from copy import deepcopy\n",
    "\n",
    "\n",
    "def wgn_all(df: DataFrame, snr: int):\n",
    "    temp_df = deepcopy(df)\n",
    "    for col in temp_df.columns:\n",
    "        temp_df[col] = add_WGN(temp_df[col], snr)\n",
    "    return temp_df"
   ]
  },
  {
   "cell_type": "code",
   "execution_count": 19,
   "metadata": {},
   "outputs": [
    {
     "name": "stderr",
     "output_type": "stream",
     "text": [
      "100%|██████████| 30688/30688 [00:00<00:00, 675437.78it/s]\n",
      "100%|██████████| 61040/61040 [00:00<00:00, 819249.28it/s]\n",
      "100%|██████████| 56000/56000 [00:00<00:00, 823540.01it/s]\n",
      "100%|██████████| 30688/30688 [00:00<00:00, 852449.77it/s]\n",
      "100%|██████████| 61040/61040 [00:00<00:00, 830323.59it/s]\n",
      "100%|██████████| 56000/56000 [00:00<00:00, 738155.32it/s]\n",
      "100%|██████████| 30688/30688 [00:00<00:00, 629914.31it/s]\n",
      "100%|██████████| 61040/61040 [00:00<00:00, 241240.02it/s]\n",
      "100%|██████████| 56000/56000 [00:00<00:00, 303505.81it/s]\n",
      "100%|██████████| 30688/30688 [00:00<00:00, 275135.68it/s]\n",
      "100%|██████████| 61040/61040 [00:00<00:00, 864568.40it/s]\n",
      "100%|██████████| 56000/56000 [00:00<00:00, 823444.74it/s]\n"
     ]
    }
   ],
   "source": [
    "test_dict = dict()\n",
    "for ratio in ratio_list:\n",
    "    temp_healthy = Restructure(wgn_all(healthy_test_df, ratio)).to_windows(50)\n",
    "    temp_ir = Restructure(wgn_all(ir_test_df, ratio)).to_windows(50)\n",
    "    temp_or = Restructure(wgn_all(or_test_df, ratio)).to_windows(50)\n",
    "\n",
    "    temp_healthy[\"label\"] = 1\n",
    "    temp_ir[\"label\"] = 2\n",
    "    temp_or[\"label\"] = 3\n",
    "\n",
    "    test_dict[ratio] = pd.concat([temp_healthy, temp_ir, temp_or])"
   ]
  },
  {
   "cell_type": "markdown",
   "metadata": {},
   "source": [
    "- Method that test on each SNR"
   ]
  },
  {
   "cell_type": "code",
   "execution_count": 20,
   "metadata": {},
   "outputs": [],
   "source": [
    "def random_forest_on_wgn(test_set: DataFrame, model: RandomForestClassifier):\n",
    "    X_test = test_set.loc[:, test_set.columns != \"label\"]\n",
    "    y_test = test_set[[\"label\"]]\n",
    "    y_predict = model.predict(X_test)\n",
    "    print(\"Accuracy:\", metrics.accuracy_score(y_test, y_predict))\n",
    "    metrics.ConfusionMatrixDisplay.from_predictions(y_test, y_predict)"
   ]
  },
  {
   "cell_type": "code",
   "execution_count": 21,
   "metadata": {},
   "outputs": [
    {
     "name": "stdout",
     "output_type": "stream",
     "text": [
      "SNR: -4\n",
      "Accuracy: 0.36322836564496913\n",
      "SNR: 0\n",
      "Accuracy: 0.37707814361529296\n",
      "SNR: 4\n",
      "Accuracy: 0.39404852160727827\n",
      "SNR: 8\n",
      "Accuracy: 0.40262509476876424\n"
     ]
    },
    {
     "data": {
      "image/png": "[encoded data removed]",
      "text/plain": [
       "<Figure size 432x288 with 2 Axes>"
      ]
     },
     "metadata": {
      "needs_background": "light"
     },
     "output_type": "display_data"
    },
    {
     "data": {
      "image/png": "[encoded data removed]",
      "text/plain": [
       "<Figure size 432x288 with 2 Axes>"
      ]
     },
     "metadata": {
      "needs_background": "light"
     },
     "output_type": "display_data"
    },
    {
     "data": {
      "image/png": "[encoded data removed]",
      "text/plain": [
       "<Figure size 432x288 with 2 Axes>"
      ]
     },
     "metadata": {
      "needs_background": "light"
     },
     "output_type": "display_data"
    },
    {
     "data": {
      "image/png": "[encoded data removed]",
      "text/plain": [
       "<Figure size 432x288 with 2 Axes>"
      ]
     },
     "metadata": {
      "needs_background": "light"
     },
     "output_type": "display_data"
    }
   ],
   "source": [
    "model = RandomForestClassifier(n_estimators=20, random_state=RANDOM_STATE)\n",
    "X_train = train_data.loc[:, train_data.columns != \"label\"]\n",
    "y_train = train_data[[\"label\"]]\n",
    "model.fit(X_train, y_train.values.ravel())\n",
    "for snr, test_df in test_dict.items():\n",
    "    print(\"SNR:\", snr)\n",
    "    random_forest_on_wgn(test_df, model)"
   ]
  }
 ],
 "metadata": {
  "kernelspec": {
   "display_name": "Python 3.9.12 ('base')",
   "language": "python",
   "name": "python3"
  },
  "language_info": {
   "codemirror_mode": {
    "name": "ipython",
    "version": 3
   },
   "file_extension": ".py",
   "mimetype": "text/x-python",
   "name": "python",
   "nbconvert_exporter": "python",
   "pygments_lexer": "ipython3",
   "version": "3.9.12"
  },
  "vscode": {
   "interpreter": {
    "hash": "54b738edc1c4f0f3bbe64c64d941031f0c75c549e7458e0d8ae3b689ae9ecc78"
   }
  }
 },
 "nbformat": 4,
 "nbformat_minor": 2
}
