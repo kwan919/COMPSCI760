{
 "cells": [
  {
   "cell_type": "markdown",
   "id": "cee1f1fc",
   "metadata": {},
   "source": [
    "## Example cases to use the functions"
   ]
  },
  {
   "cell_type": "code",
   "execution_count": 1,
   "id": "322b14dd",
   "metadata": {},
   "outputs": [],
   "source": [
    "import os\n",
    "import sys\n",
    "\n",
    "module_path = os.path.abspath(os.path.join('..'))\n",
    "if module_path not in sys.path:\n",
    "    sys.path.append(os.sep.join([module_path, \"models\"]))"
   ]
  },
  {
   "cell_type": "code",
   "execution_count": 2,
   "id": "3c7ee770",
   "metadata": {
    "scrolled": true
   },
   "outputs": [
    {
     "name": "stdout",
     "output_type": "stream",
     "text": [
      "[[-1.41421356]\n",
      " [-0.70710678]\n",
      " [ 0.        ]\n",
      " [ 0.70710678]\n",
      " [ 1.41421356]]\n",
      "the standard deviation(physics power): 0.9999999999999999\n",
      "the mean value: 0.0\n"
     ]
    }
   ],
   "source": [
    "import signal_processing\n",
    "\n",
    "\"\"\"\n",
    "normalize_data: to normalize\n",
    "\"\"\"\n",
    "\n",
    "v = [1,2,3,4,5]\n",
    "\n",
    "# normalize\n",
    "v1 = signal_processing.normalize_data(v)\n",
    "\n",
    "print(v1)\n",
    "print(\"the standard deviation(physics power):\", v1.std())\n",
    "print(\"the mean value:\", v1.mean())"
   ]
  },
  {
   "cell_type": "code",
   "execution_count": 3,
   "id": "44091ee3",
   "metadata": {},
   "outputs": [
    {
     "name": "stdout",
     "output_type": "stream",
     "text": [
      "v2:\n",
      "(10000000, 1)\n",
      "the standard deviation(physics power): 1.4143624290689314\n",
      "the mean value: -0.00015988017893954856\n",
      "v3:\n",
      "(10000000, 1)\n",
      "the standard deviation(physics power): 1.0000000000000004\n",
      "the mean value: -3.6352503229863943e-16\n"
     ]
    }
   ],
   "source": [
    "\"\"\"\n",
    "add_WGN: to add Gaussian White Noise\n",
    "\"\"\"\n",
    "\n",
    "v = list(range(10000000))\n",
    "\n",
    "# normalize first\n",
    "v1 = signal_processing.normalize_data(v)\n",
    "# add noise\n",
    "snr = 0 # 0db\n",
    "v2 = signal_processing.add_WGN(v1, snr)\n",
    "# normalize again\n",
    "v3 = signal_processing.normalize_data(v2)\n",
    "\n",
    "print(\"v2:\")\n",
    "print(v2.shape)\n",
    "print(\"the standard deviation(physics power):\", v2.std())\n",
    "print(\"the mean value:\", v2.mean())\n",
    "\n",
    "print(\"v3:\")\n",
    "print(v3.shape)\n",
    "print(\"the standard deviation(physics power):\", v3.std())\n",
    "print(\"the mean value:\", v3.mean())\n"
   ]
  },
  {
   "cell_type": "code",
   "execution_count": 5,
   "id": "2fc83618",
   "metadata": {},
   "outputs": [
    {
     "name": "stdout",
     "output_type": "stream",
     "text": [
      "v2:\n",
      "(10000000, 1)\n",
      "the standard deviation(physics power): 1.4140778478459288\n",
      "the mean value: -2.1522282622754572e-15\n",
      "v21:\n",
      "(10000000, 1)\n",
      "the standard deviation(physics power): 1.7311371408224514\n",
      "the mean value: 2.5818735593929885e-15\n",
      "v3:\n",
      "(10000000, 1)\n",
      "the standard deviation(physics power): 0.9999999999999992\n",
      "the mean value: -7.021299097687007e-17\n"
     ]
    }
   ],
   "source": [
    "\"\"\"\n",
    "add_rayleigh: to add Rayleigh Noise\n",
    "\"\"\"\n",
    "v = list(range(10000000))\n",
    "\n",
    "# normalize first\n",
    "v1 = signal_processing.normalize_data(v)\n",
    "# add noise\n",
    "snr = 0 # 0db\n",
    "v2 = signal_processing.add_rayleigh(v1, snr)\n",
    "snr = 3 # 0db\n",
    "v21 = signal_processing.add_rayleigh(v1, snr)\n",
    "# normalize again\n",
    "v3 = signal_processing.normalize_data(v2)\n",
    "\n",
    "print(\"v2:\")\n",
    "print(v2.shape)\n",
    "print(\"the standard deviation(physics power):\", v2.std())\n",
    "print(\"the mean value:\", v2.mean())\n",
    "print(\"v21:\")\n",
    "print(v21.shape)\n",
    "print(\"the standard deviation(physics power):\", v21.std())\n",
    "print(\"the mean value:\", v21.mean())\n",
    "\n",
    "print(\"v3:\")\n",
    "print(v3.shape)\n",
    "print(\"the standard deviation(physics power):\", v3.std())\n",
    "print(\"the mean value:\", v3.mean())\n"
   ]
  }
 ],
 "metadata": {
  "kernelspec": {
   "display_name": "Python 3 (ipykernel)",
   "language": "python",
   "name": "python3"
  },
  "language_info": {
   "codemirror_mode": {
    "name": "ipython",
    "version": 3
   },
   "file_extension": ".py",
   "mimetype": "text/x-python",
   "name": "python",
   "nbconvert_exporter": "python",
   "pygments_lexer": "ipython3",
   "version": "3.10.6"
  }
 },
 "nbformat": 4,
 "nbformat_minor": 5
}
