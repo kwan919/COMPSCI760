{
 "cells": [
  {
   "cell_type": "code",
   "execution_count": 1,
   "metadata": {},
   "outputs": [],
   "source": [
    "import pandas as pd\n",
    "import os\n",
    "import sys\n"
   ]
  },
  {
   "cell_type": "code",
   "execution_count": 2,
   "metadata": {},
   "outputs": [],
   "source": [
    "module_path = os.path.abspath(os.path.join('..'))\n",
    "if module_path not in sys.path:\n",
    "    sys.path.append(module_path+\"\\\\models\")\n"
   ]
  },
  {
   "cell_type": "code",
   "execution_count": 3,
   "metadata": {},
   "outputs": [],
   "source": [
    "from convert_mat_to_csv import Read_Paderborn_Mat\n"
   ]
  },
  {
   "cell_type": "code",
   "execution_count": 4,
   "metadata": {},
   "outputs": [],
   "source": [
    "def convert_all_to_csv(k_name: str, load_variants_list: list[str]) -> None:\n",
    "    for i, load_variants in enumerate(load_variants_list):\n",
    "        up_sample = []\n",
    "        down_sample = []\n",
    "        for j in range(20):\n",
    "            mat = Read_Paderborn_Mat(\"..\\\\data\\\\raw\\\\paderborn\\\\\" + k_name + \"\\\\\"\n",
    "                                     + load_variants + \"_\" + k_name + \"_\" + str(j+1) + \".mat\")\n",
    "            up_sample.append(mat.to_df_up_sample())\n",
    "            down_sample.append(mat.to_df_down_sample())\n",
    "        pd.concat(up_sample).to_csv(\n",
    "            \"..\\\\data\\\\processed\\\\paderborn\\\\up_sampled\\\\\" + k_name + \"_K\" + str(i) + \"_up.csv\")\n",
    "        pd.concat(down_sample).to_csv(\n",
    "            \"..\\\\data\\\\processed\\\\paderborn\\\\down_sampled\\\\\" + k_name + \"_K\" + str(i) + \"_down.csv\")\n"
   ]
  },
  {
   "cell_type": "markdown",
   "metadata": {},
   "source": [
    "# Convert all bearing data"
   ]
  },
  {
   "cell_type": "code",
   "execution_count": 5,
   "metadata": {},
   "outputs": [],
   "source": [
    "load_variants_list = [\"N15_M07_F10\",\n",
    "                      \"N09_M07_F10\",\n",
    "                      \"N15_M01_F10\",\n",
    "                      \"N15_M07_F04\"]\n",
    "\n",
    "k_names = [\"K001\", \"K002\", \"K003\", \"K004\", \"K005\", \"K006\", \"KA01\", \"KA03\", \"KA04\", \n",
    "           \"KA05\", \"KA06\", \"KA07\", \"KA08\", \"KA09\", \"KA15\", \"KA16\", \"KA22\", \"KA30\", \n",
    "           \"KB23\", \"KB24\", \"KB27\", \"KI01\", \"KI03\", \"KI04\", \"KI05\", \"KI07\", \"KI08\", \n",
    "           \"KI14\", \"KI16\", \"KI17\", \"KI18\", \"KI21\"]\n",
    "\n",
    "for k_name in k_names:\n",
    "    convert_all_to_csv(k_name, load_variants_list)"
   ]
  }
 ],
 "metadata": {
  "kernelspec": {
   "display_name": "Python 3.10.6 64-bit",
   "language": "python",
   "name": "python3"
  },
  "language_info": {
   "codemirror_mode": {
    "name": "ipython",
    "version": 3
   },
   "file_extension": ".py",
   "mimetype": "text/x-python",
   "name": "python",
   "nbconvert_exporter": "python",
   "pygments_lexer": "ipython3",
   "version": "3.10.6"
  },
  "orig_nbformat": 4,
  "vscode": {
   "interpreter": {
    "hash": "7da97d5ea1c340c6f83d37d841bad316e6f2144ec285f2739fc4badfe7e650bd"
   }
  }
 },
 "nbformat": 4,
 "nbformat_minor": 2
}
