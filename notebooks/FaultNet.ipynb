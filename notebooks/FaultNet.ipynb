{
 "cells": [
  {
   "cell_type": "code",
   "execution_count": 15,
   "metadata": {},
   "outputs": [],
   "source": [
    "import numpy as np\n",
    "import pandas as pd\n",
    "import sys\n",
    "import os\n",
    "from sklearn.ensemble import RandomForestClassifier\n",
    "from sklearn.model_selection import train_test_split\n",
    "from sklearn import metrics"
   ]
  },
  {
   "cell_type": "code",
   "execution_count": 16,
   "metadata": {},
   "outputs": [],
   "source": [
    "import torch\n",
    "import torch.nn as nn\n",
    "from torchvision.datasets import CIFAR10\n",
    "from torchvision.transforms import transforms\n",
    "from torch.utils.data import DataLoader\n",
    "from torch.optim import Adam\n",
    "from torch.autograd import Variable\n",
    "import torch.nn.functional as F"
   ]
  },
  {
   "cell_type": "code",
   "execution_count": 17,
   "metadata": {},
   "outputs": [],
   "source": [
    "module_path = os.path.abspath(os.path.join('..'))\n",
    "if module_path not in sys.path:\n",
    "    sys.path.append(module_path+\"/models\")"
   ]
  },
  {
   "cell_type": "code",
   "execution_count": 18,
   "metadata": {},
   "outputs": [],
   "source": [
    "from Classical_ML_Test import CML_Test\n",
    "from format_data_cnn import Restructure"
   ]
  },
  {
   "cell_type": "markdown",
   "metadata": {},
   "source": [
    "## Generate Data Matrices"
   ]
  },
  {
   "cell_type": "code",
   "execution_count": 19,
   "metadata": {},
   "outputs": [
    {
     "name": "stdout",
     "output_type": "stream",
     "text": [
      "Start convert K001 - K 0\n"
     ]
    },
    {
     "name": "stderr",
     "output_type": "stream",
     "text": [
      "100%|██████████████████████████████████████████████████████████████████████████████████████████████████████████████████| 200/200 [00:00<00:00, 6061.13it/s]\n"
     ]
    },
    {
     "name": "stdout",
     "output_type": "stream",
     "text": [
      "Start convert K001 - K 1\n"
     ]
    },
    {
     "name": "stderr",
     "output_type": "stream",
     "text": [
      "100%|██████████████████████████████████████████████████████████████████████████████████████████████████████████████████| 200/200 [00:00<00:00, 6895.97it/s]\n"
     ]
    },
    {
     "name": "stdout",
     "output_type": "stream",
     "text": [
      "Start convert K001 - K 2\n"
     ]
    },
    {
     "name": "stderr",
     "output_type": "stream",
     "text": [
      "100%|██████████████████████████████████████████████████████████████████████████████████████████████████████████████████| 200/200 [00:00<00:00, 9523.74it/s]\n"
     ]
    },
    {
     "name": "stdout",
     "output_type": "stream",
     "text": [
      "Start convert K001 - K 3\n"
     ]
    },
    {
     "name": "stderr",
     "output_type": "stream",
     "text": [
      "100%|█████████████████████████████████████████████████████████████████████████████████████████████████████████████████| 200/200 [00:00<00:00, 11756.16it/s]\n"
     ]
    },
    {
     "name": "stdout",
     "output_type": "stream",
     "text": [
      "Start convert K002 - K 0\n"
     ]
    },
    {
     "name": "stderr",
     "output_type": "stream",
     "text": [
      "100%|█████████████████████████████████████████████████████████████████████████████████████████████████████████████████| 200/200 [00:00<00:00, 10007.29it/s]\n"
     ]
    },
    {
     "name": "stdout",
     "output_type": "stream",
     "text": [
      "Start convert K002 - K 1\n"
     ]
    },
    {
     "name": "stderr",
     "output_type": "stream",
     "text": [
      "100%|██████████████████████████████████████████████████████████████████████████████████████████████████████████████████| 197/197 [00:00<00:00, 7296.70it/s]\n"
     ]
    },
    {
     "name": "stdout",
     "output_type": "stream",
     "text": [
      "Start convert K002 - K 2\n"
     ]
    },
    {
     "name": "stderr",
     "output_type": "stream",
     "text": [
      "100%|█████████████████████████████████████████████████████████████████████████████████████████████████████████████████| 200/200 [00:00<00:00, 13327.73it/s]\n"
     ]
    },
    {
     "name": "stdout",
     "output_type": "stream",
     "text": [
      "Start convert K002 - K 3\n"
     ]
    },
    {
     "name": "stderr",
     "output_type": "stream",
     "text": [
      "100%|█████████████████████████████████████████████████████████████████████████████████████████████████████████████████| 197/197 [00:00<00:00, 10366.83it/s]\n"
     ]
    },
    {
     "name": "stdout",
     "output_type": "stream",
     "text": [
      "Start convert K003 - K 0\n"
     ]
    },
    {
     "name": "stderr",
     "output_type": "stream",
     "text": [
      "100%|██████████████████████████████████████████████████████████████████████████████████████████████████████████████████| 200/200 [00:00<00:00, 9527.75it/s]\n"
     ]
    },
    {
     "name": "stdout",
     "output_type": "stream",
     "text": [
      "Start convert K003 - K 1\n"
     ]
    },
    {
     "name": "stderr",
     "output_type": "stream",
     "text": [
      "100%|█████████████████████████████████████████████████████████████████████████████████████████████████████████████████| 200/200 [00:00<00:00, 10537.13it/s]\n"
     ]
    },
    {
     "name": "stdout",
     "output_type": "stream",
     "text": [
      "Start convert K003 - K 2\n"
     ]
    },
    {
     "name": "stderr",
     "output_type": "stream",
     "text": [
      "100%|██████████████████████████████████████████████████████████████████████████████████████████████████████████████████| 200/200 [00:00<00:00, 8695.02it/s]\n"
     ]
    },
    {
     "name": "stdout",
     "output_type": "stream",
     "text": [
      "Start convert K003 - K 3\n"
     ]
    },
    {
     "name": "stderr",
     "output_type": "stream",
     "text": [
      "100%|██████████████████████████████████████████████████████████████████████████████████████████████████████████████████| 200/200 [00:00<00:00, 6667.73it/s]\n"
     ]
    },
    {
     "name": "stdout",
     "output_type": "stream",
     "text": [
      "Start convert K004 - K 0\n"
     ]
    },
    {
     "name": "stderr",
     "output_type": "stream",
     "text": [
      "100%|██████████████████████████████████████████████████████████████████████████████████████████████████████████████████| 200/200 [00:00<00:00, 9996.32it/s]\n"
     ]
    },
    {
     "name": "stdout",
     "output_type": "stream",
     "text": [
      "Start convert K004 - K 1\n"
     ]
    },
    {
     "name": "stderr",
     "output_type": "stream",
     "text": [
      "100%|█████████████████████████████████████████████████████████████████████████████████████████████████████████████████| 200/200 [00:00<00:00, 10526.15it/s]\n"
     ]
    },
    {
     "name": "stdout",
     "output_type": "stream",
     "text": [
      "Start convert K004 - K 2\n"
     ]
    },
    {
     "name": "stderr",
     "output_type": "stream",
     "text": [
      "100%|█████████████████████████████████████████████████████████████████████████████████████████████████████████████████| 200/200 [00:00<00:00, 10525.63it/s]\n"
     ]
    },
    {
     "name": "stdout",
     "output_type": "stream",
     "text": [
      "Start convert K004 - K 3\n"
     ]
    },
    {
     "name": "stderr",
     "output_type": "stream",
     "text": [
      "100%|██████████████████████████████████████████████████████████████████████████████████████████████████████████████████| 200/200 [00:00<00:00, 7143.37it/s]\n"
     ]
    },
    {
     "name": "stdout",
     "output_type": "stream",
     "text": [
      "Start convert K005 - K 0\n"
     ]
    },
    {
     "name": "stderr",
     "output_type": "stream",
     "text": [
      "100%|██████████████████████████████████████████████████████████████████████████████████████████████████████████████████| 200/200 [00:00<00:00, 8333.36it/s]\n"
     ]
    },
    {
     "name": "stdout",
     "output_type": "stream",
     "text": [
      "Start convert K005 - K 1\n"
     ]
    },
    {
     "name": "stderr",
     "output_type": "stream",
     "text": [
      "100%|██████████████████████████████████████████████████████████████████████████████████████████████████████████████████| 200/200 [00:00<00:00, 8334.85it/s]\n"
     ]
    },
    {
     "name": "stdout",
     "output_type": "stream",
     "text": [
      "Start convert K005 - K 2\n"
     ]
    },
    {
     "name": "stderr",
     "output_type": "stream",
     "text": [
      "100%|██████████████████████████████████████████████████████████████████████████████████████████████████████████████████| 200/200 [00:00<00:00, 9082.41it/s]\n"
     ]
    },
    {
     "name": "stdout",
     "output_type": "stream",
     "text": [
      "Start convert K005 - K 3\n"
     ]
    },
    {
     "name": "stderr",
     "output_type": "stream",
     "text": [
      "100%|██████████████████████████████████████████████████████████████████████████████████████████████████████████████████| 200/200 [00:00<00:00, 8333.19it/s]\n"
     ]
    },
    {
     "name": "stdout",
     "output_type": "stream",
     "text": [
      "Start convert K006 - K 0\n"
     ]
    },
    {
     "name": "stderr",
     "output_type": "stream",
     "text": [
      "100%|█████████████████████████████████████████████████████████████████████████████████████████████████████████████████| 200/200 [00:00<00:00, 11110.74it/s]\n"
     ]
    },
    {
     "name": "stdout",
     "output_type": "stream",
     "text": [
      "Start convert K006 - K 1\n"
     ]
    },
    {
     "name": "stderr",
     "output_type": "stream",
     "text": [
      "100%|█████████████████████████████████████████████████████████████████████████████████████████████████████████████████| 200/200 [00:00<00:00, 11750.56it/s]\n"
     ]
    },
    {
     "name": "stdout",
     "output_type": "stream",
     "text": [
      "Start convert K006 - K 2\n"
     ]
    },
    {
     "name": "stderr",
     "output_type": "stream",
     "text": [
      "100%|█████████████████████████████████████████████████████████████████████████████████████████████████████████████████| 200/200 [00:00<00:00, 10519.03it/s]\n"
     ]
    },
    {
     "name": "stdout",
     "output_type": "stream",
     "text": [
      "Start convert K006 - K 3\n"
     ]
    },
    {
     "name": "stderr",
     "output_type": "stream",
     "text": [
      "100%|█████████████████████████████████████████████████████████████████████████████████████████████████████████████████| 200/200 [00:00<00:00, 10526.81it/s]\n"
     ]
    }
   ],
   "source": [
    "healthy_name_list = [\"K001\", \"K002\", \"K003\", \"K004\", \"K005\", \"K006\"]\n",
    "healthy_df_list = []\n",
    "for k_name in healthy_name_list:\n",
    "    for i in range(4):\n",
    "        df = pd.read_csv(\"../data/processed/paderborn/down_sampled/\" + k_name + \"_K\" + str(i) + \"_down.csv\", engine='c', low_memory=False, memory_map=True)\n",
    "        del df[\"temp\"]\n",
    "        print(\"Start convert\", k_name, \"- K\", i)\n",
    "        healthy_df_list.append(Restructure(df).to_windows(1600))\n",
    "healthy_df = np.concatenate(healthy_df_list)\n",
    "healthy_label = np.repeat(0, healthy_df.shape[0])"
   ]
  },
  {
   "cell_type": "code",
   "execution_count": 20,
   "metadata": {},
   "outputs": [
    {
     "name": "stdout",
     "output_type": "stream",
     "text": [
      "Start convert KA01 - K 0\n"
     ]
    },
    {
     "name": "stderr",
     "output_type": "stream",
     "text": [
      "100%|█████████████████████████████████████████████████████████████████████████████████████████████████████████████████| 200/200 [00:00<00:00, 15395.05it/s]\n"
     ]
    },
    {
     "name": "stdout",
     "output_type": "stream",
     "text": [
      "Start convert KA01 - K 1\n"
     ]
    },
    {
     "name": "stderr",
     "output_type": "stream",
     "text": [
      "100%|█████████████████████████████████████████████████████████████████████████████████████████████████████████████████| 200/200 [00:00<00:00, 16669.53it/s]\n"
     ]
    },
    {
     "name": "stdout",
     "output_type": "stream",
     "text": [
      "Start convert KA01 - K 2\n"
     ]
    },
    {
     "name": "stderr",
     "output_type": "stream",
     "text": [
      "100%|█████████████████████████████████████████████████████████████████████████████████████████████████████████████████| 197/197 [00:00<00:00, 12313.39it/s]\n"
     ]
    },
    {
     "name": "stdout",
     "output_type": "stream",
     "text": [
      "Start convert KA01 - K 3\n"
     ]
    },
    {
     "name": "stderr",
     "output_type": "stream",
     "text": [
      "100%|█████████████████████████████████████████████████████████████████████████████████████████████████████████████████| 195/195 [00:00<00:00, 16259.58it/s]\n"
     ]
    },
    {
     "name": "stdout",
     "output_type": "stream",
     "text": [
      "Start convert KA03 - K 0\n"
     ]
    },
    {
     "name": "stderr",
     "output_type": "stream",
     "text": [
      "100%|█████████████████████████████████████████████████████████████████████████████████████████████████████████████████| 200/200 [00:00<00:00, 16665.23it/s]\n"
     ]
    },
    {
     "name": "stdout",
     "output_type": "stream",
     "text": [
      "Start convert KA03 - K 1\n"
     ]
    },
    {
     "name": "stderr",
     "output_type": "stream",
     "text": [
      "100%|█████████████████████████████████████████████████████████████████████████████████████████████████████████████████| 197/197 [00:00<00:00, 17885.19it/s]\n"
     ]
    },
    {
     "name": "stdout",
     "output_type": "stream",
     "text": [
      "Start convert KA03 - K 2\n"
     ]
    },
    {
     "name": "stderr",
     "output_type": "stream",
     "text": [
      "100%|█████████████████████████████████████████████████████████████████████████████████████████████████████████████████| 200/200 [00:00<00:00, 15395.90it/s]\n"
     ]
    },
    {
     "name": "stdout",
     "output_type": "stream",
     "text": [
      "Start convert KA03 - K 3\n"
     ]
    },
    {
     "name": "stderr",
     "output_type": "stream",
     "text": [
      "100%|█████████████████████████████████████████████████████████████████████████████████████████████████████████████████| 200/200 [00:00<00:00, 16684.78it/s]\n"
     ]
    },
    {
     "name": "stdout",
     "output_type": "stream",
     "text": [
      "Start convert KA05 - K 0\n"
     ]
    },
    {
     "name": "stderr",
     "output_type": "stream",
     "text": [
      "100%|█████████████████████████████████████████████████████████████████████████████████████████████████████████████████| 197/197 [00:00<00:00, 15133.29it/s]\n"
     ]
    },
    {
     "name": "stdout",
     "output_type": "stream",
     "text": [
      "Start convert KA05 - K 1\n"
     ]
    },
    {
     "name": "stderr",
     "output_type": "stream",
     "text": [
      "100%|█████████████████████████████████████████████████████████████████████████████████████████████████████████████████| 197/197 [00:00<00:00, 17894.10it/s]\n"
     ]
    },
    {
     "name": "stdout",
     "output_type": "stream",
     "text": [
      "Start convert KA05 - K 2\n"
     ]
    },
    {
     "name": "stderr",
     "output_type": "stream",
     "text": [
      "100%|█████████████████████████████████████████████████████████████████████████████████████████████████████████████████| 197/197 [00:00<00:00, 14065.98it/s]\n"
     ]
    },
    {
     "name": "stdout",
     "output_type": "stream",
     "text": [
      "Start convert KA05 - K 3\n"
     ]
    },
    {
     "name": "stderr",
     "output_type": "stream",
     "text": [
      "100%|█████████████████████████████████████████████████████████████████████████████████████████████████████████████████| 200/200 [00:00<00:00, 18165.02it/s]\n"
     ]
    },
    {
     "name": "stdout",
     "output_type": "stream",
     "text": [
      "Start convert KA06 - K 0\n"
     ]
    },
    {
     "name": "stderr",
     "output_type": "stream",
     "text": [
      "100%|█████████████████████████████████████████████████████████████████████████████████████████████████████████████████| 200/200 [00:00<00:00, 18172.89it/s]\n"
     ]
    },
    {
     "name": "stdout",
     "output_type": "stream",
     "text": [
      "Start convert KA06 - K 1\n"
     ]
    },
    {
     "name": "stderr",
     "output_type": "stream",
     "text": [
      "100%|█████████████████████████████████████████████████████████████████████████████████████████████████████████████████| 200/200 [00:00<00:00, 13331.12it/s]\n"
     ]
    },
    {
     "name": "stdout",
     "output_type": "stream",
     "text": [
      "Start convert KA06 - K 2\n"
     ]
    },
    {
     "name": "stderr",
     "output_type": "stream",
     "text": [
      "100%|█████████████████████████████████████████████████████████████████████████████████████████████████████████████████| 197/197 [00:00<00:00, 16400.91it/s]\n"
     ]
    },
    {
     "name": "stdout",
     "output_type": "stream",
     "text": [
      "Start convert KA06 - K 3\n"
     ]
    },
    {
     "name": "stderr",
     "output_type": "stream",
     "text": [
      "100%|█████████████████████████████████████████████████████████████████████████████████████████████████████████████████| 200/200 [00:00<00:00, 12471.91it/s]\n"
     ]
    },
    {
     "name": "stdout",
     "output_type": "stream",
     "text": [
      "Start convert KA07 - K 0\n"
     ]
    },
    {
     "name": "stderr",
     "output_type": "stream",
     "text": [
      "100%|█████████████████████████████████████████████████████████████████████████████████████████████████████████████████| 200/200 [00:00<00:00, 10529.46it/s]\n"
     ]
    },
    {
     "name": "stdout",
     "output_type": "stream",
     "text": [
      "Start convert KA07 - K 1\n"
     ]
    },
    {
     "name": "stderr",
     "output_type": "stream",
     "text": [
      "100%|█████████████████████████████████████████████████████████████████████████████████████████████████████████████████| 200/200 [00:00<00:00, 12503.14it/s]\n"
     ]
    },
    {
     "name": "stdout",
     "output_type": "stream",
     "text": [
      "Start convert KA07 - K 2\n"
     ]
    },
    {
     "name": "stderr",
     "output_type": "stream",
     "text": [
      "100%|█████████████████████████████████████████████████████████████████████████████████████████████████████████████████| 200/200 [00:00<00:00, 12501.65it/s]\n"
     ]
    },
    {
     "name": "stdout",
     "output_type": "stream",
     "text": [
      "Start convert KA07 - K 3\n"
     ]
    },
    {
     "name": "stderr",
     "output_type": "stream",
     "text": [
      "100%|█████████████████████████████████████████████████████████████████████████████████████████████████████████████████| 197/197 [00:00<00:00, 16412.96it/s]\n"
     ]
    },
    {
     "name": "stdout",
     "output_type": "stream",
     "text": [
      "Start convert KA08 - K 0\n"
     ]
    },
    {
     "name": "stderr",
     "output_type": "stream",
     "text": [
      "100%|█████████████████████████████████████████████████████████████████████████████████████████████████████████████████| 197/197 [00:00<00:00, 15157.72it/s]\n"
     ]
    },
    {
     "name": "stdout",
     "output_type": "stream",
     "text": [
      "Start convert KA08 - K 1\n"
     ]
    },
    {
     "name": "stderr",
     "output_type": "stream",
     "text": [
      "100%|█████████████████████████████████████████████████████████████████████████████████████████████████████████████████| 200/200 [00:00<00:00, 15384.60it/s]\n"
     ]
    },
    {
     "name": "stdout",
     "output_type": "stream",
     "text": [
      "Start convert KA08 - K 2\n"
     ]
    },
    {
     "name": "stderr",
     "output_type": "stream",
     "text": [
      "100%|█████████████████████████████████████████████████████████████████████████████████████████████████████████████████| 200/200 [00:00<00:00, 15393.07it/s]\n"
     ]
    },
    {
     "name": "stdout",
     "output_type": "stream",
     "text": [
      "Start convert KA08 - K 3\n"
     ]
    },
    {
     "name": "stderr",
     "output_type": "stream",
     "text": [
      "100%|█████████████████████████████████████████████████████████████████████████████████████████████████████████████████| 200/200 [00:00<00:00, 16655.63it/s]\n"
     ]
    },
    {
     "name": "stdout",
     "output_type": "stream",
     "text": [
      "Start convert KA09 - K 0\n"
     ]
    },
    {
     "name": "stderr",
     "output_type": "stream",
     "text": [
      "100%|█████████████████████████████████████████████████████████████████████████████████████████████████████████████████| 197/197 [00:00<00:00, 13140.76it/s]\n"
     ]
    },
    {
     "name": "stdout",
     "output_type": "stream",
     "text": [
      "Start convert KA09 - K 1\n"
     ]
    },
    {
     "name": "stderr",
     "output_type": "stream",
     "text": [
      "100%|█████████████████████████████████████████████████████████████████████████████████████████████████████████████████| 197/197 [00:00<00:00, 15154.11it/s]\n"
     ]
    },
    {
     "name": "stdout",
     "output_type": "stream",
     "text": [
      "Start convert KA09 - K 2\n"
     ]
    },
    {
     "name": "stderr",
     "output_type": "stream",
     "text": [
      "100%|█████████████████████████████████████████████████████████████████████████████████████████████████████████████████| 200/200 [00:00<00:00, 16647.37it/s]\n"
     ]
    },
    {
     "name": "stdout",
     "output_type": "stream",
     "text": [
      "Start convert KA09 - K 3\n"
     ]
    },
    {
     "name": "stderr",
     "output_type": "stream",
     "text": [
      "100%|█████████████████████████████████████████████████████████████████████████████████████████████████████████████████| 195/195 [00:00<00:00, 15005.49it/s]\n"
     ]
    },
    {
     "name": "stdout",
     "output_type": "stream",
     "text": [
      "Start convert KA04 - K 0\n"
     ]
    },
    {
     "name": "stderr",
     "output_type": "stream",
     "text": [
      "100%|█████████████████████████████████████████████████████████████████████████████████████████████████████████████████| 200/200 [00:00<00:00, 15392.79it/s]\n"
     ]
    },
    {
     "name": "stdout",
     "output_type": "stream",
     "text": [
      "Start convert KA04 - K 1\n"
     ]
    },
    {
     "name": "stderr",
     "output_type": "stream",
     "text": [
      "100%|█████████████████████████████████████████████████████████████████████████████████████████████████████████████████| 200/200 [00:00<00:00, 11111.77it/s]\n"
     ]
    },
    {
     "name": "stdout",
     "output_type": "stream",
     "text": [
      "Start convert KA04 - K 2\n"
     ]
    },
    {
     "name": "stderr",
     "output_type": "stream",
     "text": [
      "100%|█████████████████████████████████████████████████████████████████████████████████████████████████████████████████| 197/197 [00:00<00:00, 13195.32it/s]\n"
     ]
    },
    {
     "name": "stdout",
     "output_type": "stream",
     "text": [
      "Start convert KA04 - K 3\n"
     ]
    },
    {
     "name": "stderr",
     "output_type": "stream",
     "text": [
      "100%|█████████████████████████████████████████████████████████████████████████████████████████████████████████████████| 200/200 [00:00<00:00, 14279.70it/s]\n"
     ]
    },
    {
     "name": "stdout",
     "output_type": "stream",
     "text": [
      "Start convert KA15 - K 0\n"
     ]
    },
    {
     "name": "stderr",
     "output_type": "stream",
     "text": [
      "100%|██████████████████████████████████████████████████████████████████████████████████████████████████████████████████| 197/197 [00:00<00:00, 7296.89it/s]\n"
     ]
    },
    {
     "name": "stdout",
     "output_type": "stream",
     "text": [
      "Start convert KA15 - K 1\n"
     ]
    },
    {
     "name": "stderr",
     "output_type": "stream",
     "text": [
      "100%|██████████████████████████████████████████████████████████████████████████████████████████████████████████████████| 197/197 [00:00<00:00, 8570.19it/s]\n"
     ]
    },
    {
     "name": "stdout",
     "output_type": "stream",
     "text": [
      "Start convert KA15 - K 2\n"
     ]
    },
    {
     "name": "stderr",
     "output_type": "stream",
     "text": [
      "100%|█████████████████████████████████████████████████████████████████████████████████████████████████████████████████| 197/197 [00:00<00:00, 16368.10it/s]\n"
     ]
    },
    {
     "name": "stdout",
     "output_type": "stream",
     "text": [
      "Start convert KA15 - K 3\n"
     ]
    },
    {
     "name": "stderr",
     "output_type": "stream",
     "text": [
      "100%|█████████████████████████████████████████████████████████████████████████████████████████████████████████████████| 200/200 [00:00<00:00, 16668.87it/s]\n"
     ]
    },
    {
     "name": "stdout",
     "output_type": "stream",
     "text": [
      "Start convert KA16 - K 0\n"
     ]
    },
    {
     "name": "stderr",
     "output_type": "stream",
     "text": [
      "100%|█████████████████████████████████████████████████████████████████████████████████████████████████████████████████| 197/197 [00:00<00:00, 14071.49it/s]\n"
     ]
    },
    {
     "name": "stdout",
     "output_type": "stream",
     "text": [
      "Start convert KA16 - K 1\n"
     ]
    },
    {
     "name": "stderr",
     "output_type": "stream",
     "text": [
      "100%|█████████████████████████████████████████████████████████████████████████████████████████████████████████████████| 200/200 [00:00<00:00, 15388.84it/s]\n"
     ]
    },
    {
     "name": "stdout",
     "output_type": "stream",
     "text": [
      "Start convert KA16 - K 2\n"
     ]
    },
    {
     "name": "stderr",
     "output_type": "stream",
     "text": [
      "100%|█████████████████████████████████████████████████████████████████████████████████████████████████████████████████| 200/200 [00:00<00:00, 14291.13it/s]\n"
     ]
    },
    {
     "name": "stdout",
     "output_type": "stream",
     "text": [
      "Start convert KA16 - K 3\n"
     ]
    },
    {
     "name": "stderr",
     "output_type": "stream",
     "text": [
      "100%|█████████████████████████████████████████████████████████████████████████████████████████████████████████████████| 200/200 [00:00<00:00, 11781.92it/s]\n"
     ]
    },
    {
     "name": "stdout",
     "output_type": "stream",
     "text": [
      "Start convert KA22 - K 0\n"
     ]
    },
    {
     "name": "stderr",
     "output_type": "stream",
     "text": [
      "100%|█████████████████████████████████████████████████████████████████████████████████████████████████████████████████| 200/200 [00:00<00:00, 16671.85it/s]\n"
     ]
    },
    {
     "name": "stdout",
     "output_type": "stream",
     "text": [
      "Start convert KA22 - K 1\n"
     ]
    },
    {
     "name": "stderr",
     "output_type": "stream",
     "text": [
      "100%|█████████████████████████████████████████████████████████████████████████████████████████████████████████████████| 197/197 [00:00<00:00, 12328.83it/s]\n"
     ]
    },
    {
     "name": "stdout",
     "output_type": "stream",
     "text": [
      "Start convert KA22 - K 2\n"
     ]
    },
    {
     "name": "stderr",
     "output_type": "stream",
     "text": [
      "100%|█████████████████████████████████████████████████████████████████████████████████████████████████████████████████| 197/197 [00:00<00:00, 11588.59it/s]\n"
     ]
    },
    {
     "name": "stdout",
     "output_type": "stream",
     "text": [
      "Start convert KA22 - K 3\n"
     ]
    },
    {
     "name": "stderr",
     "output_type": "stream",
     "text": [
      "100%|█████████████████████████████████████████████████████████████████████████████████████████████████████████████████| 192/192 [00:00<00:00, 16005.61it/s]\n"
     ]
    },
    {
     "name": "stdout",
     "output_type": "stream",
     "text": [
      "Start convert KA30 - K 0\n"
     ]
    },
    {
     "name": "stderr",
     "output_type": "stream",
     "text": [
      "100%|█████████████████████████████████████████████████████████████████████████████████████████████████████████████████| 197/197 [00:00<00:00, 14071.49it/s]\n"
     ]
    },
    {
     "name": "stdout",
     "output_type": "stream",
     "text": [
      "Start convert KA30 - K 1\n"
     ]
    },
    {
     "name": "stderr",
     "output_type": "stream",
     "text": [
      "100%|█████████████████████████████████████████████████████████████████████████████████████████████████████████████████| 200/200 [00:00<00:00, 14288.45it/s]\n"
     ]
    },
    {
     "name": "stdout",
     "output_type": "stream",
     "text": [
      "Start convert KA30 - K 2\n"
     ]
    },
    {
     "name": "stderr",
     "output_type": "stream",
     "text": [
      "100%|█████████████████████████████████████████████████████████████████████████████████████████████████████████████████| 200/200 [00:00<00:00, 14293.57it/s]\n"
     ]
    },
    {
     "name": "stdout",
     "output_type": "stream",
     "text": [
      "Start convert KA30 - K 3\n"
     ]
    },
    {
     "name": "stderr",
     "output_type": "stream",
     "text": [
      "100%|█████████████████████████████████████████████████████████████████████████████████████████████████████████████████| 200/200 [00:00<00:00, 15386.01it/s]\n"
     ]
    }
   ],
   "source": [
    "ir_name_list = [\"KA01\", \"KA03\", \"KA05\", \"KA06\", \"KA07\", \"KA08\", \"KA09\", \"KA04\", \"KA15\", \"KA16\", \"KA22\", \"KA30\"]\n",
    "ir_df_list = []\n",
    "for k_name in ir_name_list:\n",
    "    for i in range(4):\n",
    "        df = pd.read_csv(\"../data/processed/paderborn/down_sampled/\" + k_name + \"_K\" + str(i) + \"_down.csv\", engine='c', low_memory=False, memory_map=True)\n",
    "        del df[\"temp\"]\n",
    "        print(\"Start convert\", k_name, \"- K\", i)\n",
    "        ir_df_list.append(Restructure(df).to_windows(1600))\n",
    "ir_df = np.concatenate(ir_df_list)\n",
    "ir_label = np.repeat(1, ir_df.shape[0])"
   ]
  },
  {
   "cell_type": "code",
   "execution_count": 21,
   "metadata": {},
   "outputs": [
    {
     "name": "stdout",
     "output_type": "stream",
     "text": [
      "Start convert KI01 - K 0\n"
     ]
    },
    {
     "name": "stderr",
     "output_type": "stream",
     "text": [
      "100%|█████████████████████████████████████████████████████████████████████████████████████████████████████████████████| 200/200 [00:00<00:00, 13333.45it/s]\n"
     ]
    },
    {
     "name": "stdout",
     "output_type": "stream",
     "text": [
      "Start convert KI01 - K 1\n"
     ]
    },
    {
     "name": "stderr",
     "output_type": "stream",
     "text": [
      "100%|█████████████████████████████████████████████████████████████████████████████████████████████████████████████████| 200/200 [00:00<00:00, 15375.86it/s]\n"
     ]
    },
    {
     "name": "stdout",
     "output_type": "stream",
     "text": [
      "Start convert KI01 - K 2\n"
     ]
    },
    {
     "name": "stderr",
     "output_type": "stream",
     "text": [
      "100%|█████████████████████████████████████████████████████████████████████████████████████████████████████████████████| 200/200 [00:00<00:00, 15389.12it/s]\n"
     ]
    },
    {
     "name": "stdout",
     "output_type": "stream",
     "text": [
      "Start convert KI01 - K 3\n"
     ]
    },
    {
     "name": "stderr",
     "output_type": "stream",
     "text": [
      "100%|█████████████████████████████████████████████████████████████████████████████████████████████████████████████████| 200/200 [00:00<00:00, 15403.25it/s]\n"
     ]
    },
    {
     "name": "stdout",
     "output_type": "stream",
     "text": [
      "Start convert KI03 - K 0\n"
     ]
    },
    {
     "name": "stderr",
     "output_type": "stream",
     "text": [
      "100%|█████████████████████████████████████████████████████████████████████████████████████████████████████████████████| 200/200 [00:00<00:00, 13333.24it/s]\n"
     ]
    },
    {
     "name": "stdout",
     "output_type": "stream",
     "text": [
      "Start convert KI03 - K 1\n"
     ]
    },
    {
     "name": "stderr",
     "output_type": "stream",
     "text": [
      "100%|█████████████████████████████████████████████████████████████████████████████████████████████████████████████████| 195/195 [00:00<00:00, 16245.37it/s]\n"
     ]
    },
    {
     "name": "stdout",
     "output_type": "stream",
     "text": [
      "Start convert KI03 - K 2\n"
     ]
    },
    {
     "name": "stderr",
     "output_type": "stream",
     "text": [
      "100%|█████████████████████████████████████████████████████████████████████████████████████████████████████████████████| 195/195 [00:00<00:00, 16279.32it/s]\n"
     ]
    },
    {
     "name": "stdout",
     "output_type": "stream",
     "text": [
      "Start convert KI03 - K 3\n"
     ]
    },
    {
     "name": "stderr",
     "output_type": "stream",
     "text": [
      "100%|█████████████████████████████████████████████████████████████████████████████████████████████████████████████████| 200/200 [00:00<00:00, 13329.43it/s]\n"
     ]
    },
    {
     "name": "stdout",
     "output_type": "stream",
     "text": [
      "Start convert KI04 - K 0\n"
     ]
    },
    {
     "name": "stderr",
     "output_type": "stream",
     "text": [
      "100%|█████████████████████████████████████████████████████████████████████████████████████████████████████████████████| 200/200 [00:00<00:00, 16663.24it/s]\n"
     ]
    },
    {
     "name": "stdout",
     "output_type": "stream",
     "text": [
      "Start convert KI04 - K 1\n"
     ]
    },
    {
     "name": "stderr",
     "output_type": "stream",
     "text": [
      "100%|█████████████████████████████████████████████████████████████████████████████████████████████████████████████████| 200/200 [00:00<00:00, 16684.45it/s]\n"
     ]
    },
    {
     "name": "stdout",
     "output_type": "stream",
     "text": [
      "Start convert KI04 - K 2\n"
     ]
    },
    {
     "name": "stderr",
     "output_type": "stream",
     "text": [
      "100%|█████████████████████████████████████████████████████████████████████████████████████████████████████████████████| 200/200 [00:00<00:00, 18171.71it/s]\n"
     ]
    },
    {
     "name": "stdout",
     "output_type": "stream",
     "text": [
      "Start convert KI04 - K 3\n"
     ]
    },
    {
     "name": "stderr",
     "output_type": "stream",
     "text": [
      "100%|█████████████████████████████████████████████████████████████████████████████████████████████████████████████████| 200/200 [00:00<00:00, 13318.63it/s]\n"
     ]
    },
    {
     "name": "stdout",
     "output_type": "stream",
     "text": [
      "Start convert KI05 - K 0\n"
     ]
    },
    {
     "name": "stderr",
     "output_type": "stream",
     "text": [
      "100%|█████████████████████████████████████████████████████████████████████████████████████████████████████████████████| 200/200 [00:00<00:00, 16682.79it/s]\n"
     ]
    },
    {
     "name": "stdout",
     "output_type": "stream",
     "text": [
      "Start convert KI05 - K 1\n"
     ]
    },
    {
     "name": "stderr",
     "output_type": "stream",
     "text": [
      "100%|██████████████████████████████████████████████████████████████████████████████████████████████████████████████████| 197/197 [00:00<00:00, 8207.79it/s]\n"
     ]
    },
    {
     "name": "stdout",
     "output_type": "stream",
     "text": [
      "Start convert KI05 - K 2\n"
     ]
    },
    {
     "name": "stderr",
     "output_type": "stream",
     "text": [
      "100%|█████████████████████████████████████████████████████████████████████████████████████████████████████████████████| 197/197 [00:00<00:00, 19666.73it/s]\n"
     ]
    },
    {
     "name": "stdout",
     "output_type": "stream",
     "text": [
      "Start convert KI05 - K 3\n"
     ]
    },
    {
     "name": "stderr",
     "output_type": "stream",
     "text": [
      "100%|█████████████████████████████████████████████████████████████████████████████████████████████████████████████████| 200/200 [00:00<00:00, 11111.03it/s]\n"
     ]
    },
    {
     "name": "stdout",
     "output_type": "stream",
     "text": [
      "Start convert KI07 - K 0\n"
     ]
    },
    {
     "name": "stderr",
     "output_type": "stream",
     "text": [
      "100%|█████████████████████████████████████████████████████████████████████████████████████████████████████████████████| 197/197 [00:00<00:00, 15141.61it/s]\n"
     ]
    },
    {
     "name": "stdout",
     "output_type": "stream",
     "text": [
      "Start convert KI07 - K 1\n"
     ]
    },
    {
     "name": "stderr",
     "output_type": "stream",
     "text": [
      "100%|█████████████████████████████████████████████████████████████████████████████████████████████████████████████████| 200/200 [00:00<00:00, 15383.76it/s]\n"
     ]
    },
    {
     "name": "stdout",
     "output_type": "stream",
     "text": [
      "Start convert KI07 - K 2\n"
     ]
    },
    {
     "name": "stderr",
     "output_type": "stream",
     "text": [
      "100%|██████████████████████████████████████████████████████████████████████████████████████████████████████████████████| 197/197 [00:00<00:00, 9850.83it/s]\n"
     ]
    },
    {
     "name": "stdout",
     "output_type": "stream",
     "text": [
      "Start convert KI07 - K 3\n"
     ]
    },
    {
     "name": "stderr",
     "output_type": "stream",
     "text": [
      "100%|█████████████████████████████████████████████████████████████████████████████████████████████████████████████████| 200/200 [00:00<00:00, 14300.39it/s]\n"
     ]
    },
    {
     "name": "stdout",
     "output_type": "stream",
     "text": [
      "Start convert KI08 - K 0\n"
     ]
    },
    {
     "name": "stderr",
     "output_type": "stream",
     "text": [
      "100%|██████████████████████████████████████████████████████████████████████████████████████████████████████████████████| 195/195 [00:00<00:00, 6964.43it/s]\n"
     ]
    },
    {
     "name": "stdout",
     "output_type": "stream",
     "text": [
      "Start convert KI08 - K 1\n"
     ]
    },
    {
     "name": "stderr",
     "output_type": "stream",
     "text": [
      "100%|█████████████████████████████████████████████████████████████████████████████████████████████████████████████████| 195/195 [00:00<00:00, 14991.19it/s]\n"
     ]
    },
    {
     "name": "stdout",
     "output_type": "stream",
     "text": [
      "Start convert KI08 - K 2\n"
     ]
    },
    {
     "name": "stderr",
     "output_type": "stream",
     "text": [
      "100%|█████████████████████████████████████████████████████████████████████████████████████████████████████████████████| 200/200 [00:00<00:00, 18165.81it/s]\n"
     ]
    },
    {
     "name": "stdout",
     "output_type": "stream",
     "text": [
      "Start convert KI08 - K 3\n"
     ]
    },
    {
     "name": "stderr",
     "output_type": "stream",
     "text": [
      "100%|█████████████████████████████████████████████████████████████████████████████████████████████████████████████████| 197/197 [00:00<00:00, 15152.72it/s]\n"
     ]
    },
    {
     "name": "stdout",
     "output_type": "stream",
     "text": [
      "Start convert KI14 - K 0\n"
     ]
    },
    {
     "name": "stderr",
     "output_type": "stream",
     "text": [
      "100%|█████████████████████████████████████████████████████████████████████████████████████████████████████████████████| 200/200 [00:00<00:00, 13332.18it/s]\n"
     ]
    },
    {
     "name": "stdout",
     "output_type": "stream",
     "text": [
      "Start convert KI14 - K 1\n"
     ]
    },
    {
     "name": "stderr",
     "output_type": "stream",
     "text": [
      "100%|█████████████████████████████████████████████████████████████████████████████████████████████████████████████████| 200/200 [00:00<00:00, 15382.06it/s]\n"
     ]
    },
    {
     "name": "stdout",
     "output_type": "stream",
     "text": [
      "Start convert KI14 - K 2\n"
     ]
    },
    {
     "name": "stderr",
     "output_type": "stream",
     "text": [
      "100%|█████████████████████████████████████████████████████████████████████████████████████████████████████████████████| 200/200 [00:00<00:00, 14286.51it/s]\n"
     ]
    },
    {
     "name": "stdout",
     "output_type": "stream",
     "text": [
      "Start convert KI14 - K 3\n"
     ]
    },
    {
     "name": "stderr",
     "output_type": "stream",
     "text": [
      "100%|█████████████████████████████████████████████████████████████████████████████████████████████████████████████████| 200/200 [00:00<00:00, 15379.24it/s]\n"
     ]
    },
    {
     "name": "stdout",
     "output_type": "stream",
     "text": [
      "Start convert KI16 - K 0\n"
     ]
    },
    {
     "name": "stderr",
     "output_type": "stream",
     "text": [
      "100%|█████████████████████████████████████████████████████████████████████████████████████████████████████████████████| 200/200 [00:00<00:00, 16667.21it/s]\n"
     ]
    },
    {
     "name": "stdout",
     "output_type": "stream",
     "text": [
      "Start convert KI16 - K 1\n"
     ]
    },
    {
     "name": "stderr",
     "output_type": "stream",
     "text": [
      "100%|█████████████████████████████████████████████████████████████████████████████████████████████████████████████████| 200/200 [00:00<00:00, 16662.91it/s]\n"
     ]
    },
    {
     "name": "stdout",
     "output_type": "stream",
     "text": [
      "Start convert KI16 - K 2\n"
     ]
    },
    {
     "name": "stderr",
     "output_type": "stream",
     "text": [
      "100%|█████████████████████████████████████████████████████████████████████████████████████████████████████████████████| 200/200 [00:00<00:00, 16626.58it/s]\n"
     ]
    },
    {
     "name": "stdout",
     "output_type": "stream",
     "text": [
      "Start convert KI16 - K 3\n"
     ]
    },
    {
     "name": "stderr",
     "output_type": "stream",
     "text": [
      "100%|█████████████████████████████████████████████████████████████████████████████████████████████████████████████████| 197/197 [00:00<00:00, 17882.48it/s]\n"
     ]
    },
    {
     "name": "stdout",
     "output_type": "stream",
     "text": [
      "Start convert KI17 - K 0\n"
     ]
    },
    {
     "name": "stderr",
     "output_type": "stream",
     "text": [
      "100%|█████████████████████████████████████████████████████████████████████████████████████████████████████████████████| 197/197 [00:00<00:00, 17918.16it/s]\n"
     ]
    },
    {
     "name": "stdout",
     "output_type": "stream",
     "text": [
      "Start convert KI17 - K 1\n"
     ]
    },
    {
     "name": "stderr",
     "output_type": "stream",
     "text": [
      "100%|█████████████████████████████████████████████████████████████████████████████████████████████████████████████████| 200/200 [00:00<00:00, 18174.86it/s]\n"
     ]
    },
    {
     "name": "stdout",
     "output_type": "stream",
     "text": [
      "Start convert KI17 - K 2\n"
     ]
    },
    {
     "name": "stderr",
     "output_type": "stream",
     "text": [
      "100%|█████████████████████████████████████████████████████████████████████████████████████████████████████████████████| 200/200 [00:00<00:00, 15391.09it/s]\n"
     ]
    },
    {
     "name": "stdout",
     "output_type": "stream",
     "text": [
      "Start convert KI17 - K 3\n"
     ]
    },
    {
     "name": "stderr",
     "output_type": "stream",
     "text": [
      "100%|██████████████████████████████████████████████████████████████████████████████████████████████████████████████████| 200/200 [00:00<00:00, 9094.23it/s]\n"
     ]
    },
    {
     "name": "stdout",
     "output_type": "stream",
     "text": [
      "Start convert KI18 - K 0\n"
     ]
    },
    {
     "name": "stderr",
     "output_type": "stream",
     "text": [
      "100%|█████████████████████████████████████████████████████████████████████████████████████████████████████████████████| 200/200 [00:00<00:00, 16674.83it/s]\n"
     ]
    },
    {
     "name": "stdout",
     "output_type": "stream",
     "text": [
      "Start convert KI18 - K 1\n"
     ]
    },
    {
     "name": "stderr",
     "output_type": "stream",
     "text": [
      "100%|█████████████████████████████████████████████████████████████████████████████████████████████████████████████████| 200/200 [00:00<00:00, 14285.29it/s]\n"
     ]
    },
    {
     "name": "stdout",
     "output_type": "stream",
     "text": [
      "Start convert KI18 - K 2\n"
     ]
    },
    {
     "name": "stderr",
     "output_type": "stream",
     "text": [
      "100%|█████████████████████████████████████████████████████████████████████████████████████████████████████████████████| 197/197 [00:00<00:00, 15159.39it/s]\n"
     ]
    },
    {
     "name": "stdout",
     "output_type": "stream",
     "text": [
      "Start convert KI18 - K 3\n"
     ]
    },
    {
     "name": "stderr",
     "output_type": "stream",
     "text": [
      "100%|█████████████████████████████████████████████████████████████████████████████████████████████████████████████████| 195/195 [00:00<00:00, 13937.41it/s]\n"
     ]
    },
    {
     "name": "stdout",
     "output_type": "stream",
     "text": [
      "Start convert KI21 - K 0\n"
     ]
    },
    {
     "name": "stderr",
     "output_type": "stream",
     "text": [
      "100%|██████████████████████████████████████████████████████████████████████████████████████████████████████████████████| 197/197 [00:00<00:00, 8211.95it/s]\n"
     ]
    },
    {
     "name": "stdout",
     "output_type": "stream",
     "text": [
      "Start convert KI21 - K 1\n"
     ]
    },
    {
     "name": "stderr",
     "output_type": "stream",
     "text": [
      "100%|█████████████████████████████████████████████████████████████████████████████████████████████████████████████████| 197/197 [00:00<00:00, 11593.30it/s]\n"
     ]
    },
    {
     "name": "stdout",
     "output_type": "stream",
     "text": [
      "Start convert KI21 - K 2\n"
     ]
    },
    {
     "name": "stderr",
     "output_type": "stream",
     "text": [
      "100%|█████████████████████████████████████████████████████████████████████████████████████████████████████████████████| 200/200 [00:00<00:00, 10006.21it/s]\n"
     ]
    },
    {
     "name": "stdout",
     "output_type": "stream",
     "text": [
      "Start convert KI21 - K 3\n"
     ]
    },
    {
     "name": "stderr",
     "output_type": "stream",
     "text": [
      "100%|██████████████████████████████████████████████████████████████████████████████████████████████████████████████████| 200/200 [00:00<00:00, 9087.14it/s]\n"
     ]
    }
   ],
   "source": [
    "or_name_list = [\"KI01\", \"KI03\", \"KI04\", \"KI05\", \"KI07\", \"KI08\", \"KI14\", \"KI16\", \"KI17\", \"KI18\", \"KI21\"]\n",
    "# \"KB23\", \"KB24\", \"KB27\" are IR + OR\n",
    "or_df_list = []\n",
    "for k_name in or_name_list:\n",
    "    for i in range(4):\n",
    "        df = pd.read_csv(\"../data/processed/paderborn/down_sampled/\" + k_name + \"_K\" + str(i) + \"_down.csv\", engine='c', low_memory=False, memory_map=True)\n",
    "        del df[\"temp\"]\n",
    "        print(\"Start convert\", k_name, \"- K\", i)\n",
    "        or_df_list.append(Restructure(df).to_windows(1600))\n",
    "or_df = np.concatenate(or_df_list)\n",
    "or_label = np.repeat(2, or_df.shape[0])"
   ]
  },
  {
   "cell_type": "code",
   "execution_count": 31,
   "metadata": {},
   "outputs": [],
   "source": [
    "X = np.concatenate((healthy_df, ir_df, or_df))\n",
    "y = np.concatenate((healthy_label, ir_label, or_label)) "
   ]
  },
  {
   "cell_type": "markdown",
   "metadata": {},
   "source": [
    "## Split data and create torch datasets"
   ]
  },
  {
   "cell_type": "code",
   "execution_count": 36,
   "metadata": {},
   "outputs": [],
   "source": [
    "from sklearn.model_selection import train_test_split\n",
    "X_train, X_test, y_train, y_test = train_test_split(X, y, test_size=0.2, random_state=42)"
   ]
  },
  {
   "cell_type": "code",
   "execution_count": 37,
   "metadata": {},
   "outputs": [],
   "source": [
    "X_train = torch.from_numpy(X_train)\n",
    "X_test = torch.from_numpy(X_test)\n",
    "y_train= torch.from_numpy(y_train)\n",
    "y_test = torch.from_numpy(y_test)"
   ]
  },
  {
   "cell_type": "code",
   "execution_count": 38,
   "metadata": {},
   "outputs": [],
   "source": [
    "import torch.utils.data as data_utils\n",
    "batch_size = 128 \n",
    "train_tensor = data_utils.TensorDataset(X_train, y_train) \n",
    "train_loader = data_utils.DataLoader(dataset = train_tensor, batch_size = batch_size, shuffle = True)"
   ]
  },
  {
   "cell_type": "code",
   "execution_count": 39,
   "metadata": {},
   "outputs": [],
   "source": [
    "batch_size = 1024\n",
    "test_tensor = data_utils.TensorDataset(X_test, y_test) \n",
    "test_loader = data_utils.DataLoader(dataset = test_tensor, batch_size = batch_size, shuffle = False)"
   ]
  },
  {
   "cell_type": "code",
   "execution_count": 40,
   "metadata": {},
   "outputs": [
    {
     "data": {
      "text/plain": [
       "torch.Size([18453, 6, 40, 40])"
      ]
     },
     "execution_count": 40,
     "metadata": {},
     "output_type": "execute_result"
    }
   ],
   "source": [
    "X_train.size()"
   ]
  },
  {
   "cell_type": "code",
   "execution_count": 41,
   "metadata": {},
   "outputs": [
    {
     "data": {
      "text/plain": [
       "torch.Size([4614, 6, 40, 40])"
      ]
     },
     "execution_count": 41,
     "metadata": {},
     "output_type": "execute_result"
    }
   ],
   "source": [
    "X_test.size()"
   ]
  },
  {
   "cell_type": "code",
   "execution_count": 42,
   "metadata": {},
   "outputs": [],
   "source": [
    "class CNN(nn.Module):\n",
    "    def __init__(self):\n",
    "        super(CNN, self).__init__()\n",
    "        self.conv1 = nn.Conv2d(6, 32, kernel_size=4,stride=1,padding = 1)\n",
    "        self.mp1 = nn.MaxPool2d(kernel_size=4,stride=2)\n",
    "        self.conv2 = nn.Conv2d(32,64, kernel_size=4,stride =1)\n",
    "        self.mp2 = nn.MaxPool2d(kernel_size=4,stride=2)\n",
    "        self.fc1= nn.Linear(2304,256)\n",
    "        self.dp1 = nn.Dropout(p=0.2)\n",
    "        self.fc2 = nn.Linear(256,3)\n",
    "\n",
    "    def forward(self, x):\n",
    "        in_size = x.size(0)\n",
    "        x = F.relu(self.mp1(self.conv1(x)))\n",
    "        x = F.relu(self.mp2(self.conv2(x)))\n",
    "        x = x.view(in_size,-1)\n",
    "        x = F.relu(self.fc1(x))\n",
    "        x = self.dp1(x)\n",
    "        x = self.fc2(x)\n",
    "        \n",
    "        return F.log_softmax(x, dim=1)"
   ]
  },
  {
   "cell_type": "code",
   "execution_count": 43,
   "metadata": {},
   "outputs": [],
   "source": [
    "cnn = CNN().double()"
   ]
  },
  {
   "cell_type": "code",
   "execution_count": 44,
   "metadata": {},
   "outputs": [],
   "source": [
    "criterion = nn.CrossEntropyLoss()\n",
    "optimizer = torch.optim.Adam(cnn.parameters(), lr=0.001)"
   ]
  },
  {
   "cell_type": "code",
   "execution_count": 45,
   "metadata": {},
   "outputs": [],
   "source": [
    "num_epochs = 100"
   ]
  },
  {
   "cell_type": "code",
   "execution_count": 47,
   "metadata": {},
   "outputs": [
    {
     "name": "stdout",
     "output_type": "stream",
     "text": [
      "Epoch [1/100], Step [1/145], Loss: 1.0814, Train Accuracy: 42.19%\n",
      "Epoch [1/100], Step [2/145], Loss: 1.0718, Train Accuracy: 46.88%\n",
      "Epoch [1/100], Step [3/145], Loss: 1.0887, Train Accuracy: 33.59%\n",
      "Epoch [1/100], Step [4/145], Loss: 1.0712, Train Accuracy: 50.78%\n",
      "Epoch [1/100], Step [5/145], Loss: 1.1408, Train Accuracy: 39.84%\n",
      "Epoch [1/100], Step [6/145], Loss: 1.0908, Train Accuracy: 37.50%\n",
      "Epoch [1/100], Step [7/145], Loss: 1.0779, Train Accuracy: 39.84%\n",
      "Epoch [1/100], Step [8/145], Loss: 1.0708, Train Accuracy: 43.75%\n",
      "Epoch [1/100], Step [9/145], Loss: 1.0782, Train Accuracy: 38.28%\n",
      "Epoch [1/100], Step [10/145], Loss: 1.0851, Train Accuracy: 40.62%\n",
      "Epoch [1/100], Step [11/145], Loss: 1.0802, Train Accuracy: 38.28%\n",
      "Epoch [1/100], Step [12/145], Loss: 1.0799, Train Accuracy: 40.62%\n",
      "Epoch [1/100], Step [13/145], Loss: 1.0773, Train Accuracy: 39.84%\n",
      "Epoch [1/100], Step [14/145], Loss: 1.0621, Train Accuracy: 46.09%\n",
      "Epoch [1/100], Step [15/145], Loss: 1.0761, Train Accuracy: 43.75%\n",
      "Epoch [1/100], Step [16/145], Loss: 1.0700, Train Accuracy: 36.72%\n",
      "Epoch [1/100], Step [17/145], Loss: 1.0888, Train Accuracy: 39.84%\n",
      "Epoch [1/100], Step [18/145], Loss: 1.0721, Train Accuracy: 47.66%\n",
      "Epoch [1/100], Step [19/145], Loss: 1.0760, Train Accuracy: 41.41%\n",
      "Epoch [1/100], Step [20/145], Loss: 1.0810, Train Accuracy: 35.16%\n",
      "Epoch [1/100], Step [21/145], Loss: 1.0759, Train Accuracy: 42.19%\n",
      "Epoch [1/100], Step [22/145], Loss: 1.0620, Train Accuracy: 46.88%\n",
      "Epoch [1/100], Step [23/145], Loss: 1.0693, Train Accuracy: 41.41%\n",
      "Epoch [1/100], Step [24/145], Loss: 1.0878, Train Accuracy: 32.03%\n",
      "Epoch [1/100], Step [25/145], Loss: 1.0833, Train Accuracy: 39.06%\n",
      "Epoch [1/100], Step [26/145], Loss: 1.0593, Train Accuracy: 46.88%\n",
      "Epoch [1/100], Step [27/145], Loss: 1.0642, Train Accuracy: 46.09%\n",
      "Epoch [1/100], Step [28/145], Loss: 1.0528, Train Accuracy: 53.91%\n",
      "Epoch [1/100], Step [29/145], Loss: 1.0905, Train Accuracy: 33.59%\n",
      "Epoch [1/100], Step [30/145], Loss: 1.0642, Train Accuracy: 42.19%\n",
      "Epoch [1/100], Step [31/145], Loss: 1.0626, Train Accuracy: 42.19%\n",
      "Epoch [1/100], Step [32/145], Loss: 1.0565, Train Accuracy: 42.19%\n",
      "Epoch [1/100], Step [33/145], Loss: 1.0698, Train Accuracy: 44.53%\n",
      "Epoch [1/100], Step [34/145], Loss: 1.0635, Train Accuracy: 46.88%\n",
      "Epoch [1/100], Step [35/145], Loss: 1.0944, Train Accuracy: 36.72%\n",
      "Epoch [1/100], Step [36/145], Loss: 1.0796, Train Accuracy: 39.84%\n",
      "Epoch [1/100], Step [37/145], Loss: 1.0669, Train Accuracy: 39.84%\n",
      "Epoch [1/100], Step [38/145], Loss: 1.0774, Train Accuracy: 42.97%\n",
      "Epoch [1/100], Step [39/145], Loss: 1.0700, Train Accuracy: 33.59%\n",
      "Epoch [1/100], Step [40/145], Loss: 1.0567, Train Accuracy: 42.97%\n",
      "Epoch [1/100], Step [41/145], Loss: 1.0820, Train Accuracy: 45.31%\n",
      "Epoch [1/100], Step [42/145], Loss: 1.0552, Train Accuracy: 43.75%\n",
      "Epoch [1/100], Step [43/145], Loss: 1.0907, Train Accuracy: 36.72%\n",
      "Epoch [1/100], Step [44/145], Loss: 1.0604, Train Accuracy: 44.53%\n",
      "Epoch [1/100], Step [45/145], Loss: 1.0674, Train Accuracy: 38.28%\n",
      "Epoch [1/100], Step [46/145], Loss: 1.0412, Train Accuracy: 47.66%\n",
      "Epoch [1/100], Step [47/145], Loss: 1.0800, Train Accuracy: 39.84%\n",
      "Epoch [1/100], Step [48/145], Loss: 1.0623, Train Accuracy: 44.53%\n",
      "Epoch [1/100], Step [49/145], Loss: 1.0763, Train Accuracy: 43.75%\n",
      "Epoch [1/100], Step [50/145], Loss: 1.0708, Train Accuracy: 43.75%\n",
      "Epoch [1/100], Step [51/145], Loss: 1.0480, Train Accuracy: 46.88%\n",
      "Epoch [1/100], Step [52/145], Loss: 1.0608, Train Accuracy: 39.06%\n",
      "Epoch [1/100], Step [53/145], Loss: 1.0892, Train Accuracy: 36.72%\n",
      "Epoch [1/100], Step [54/145], Loss: 1.0606, Train Accuracy: 32.03%\n",
      "Epoch [1/100], Step [55/145], Loss: 1.0693, Train Accuracy: 39.06%\n",
      "Epoch [1/100], Step [56/145], Loss: 1.0783, Train Accuracy: 40.62%\n",
      "Epoch [1/100], Step [57/145], Loss: 1.0665, Train Accuracy: 40.62%\n",
      "Epoch [1/100], Step [58/145], Loss: 1.0606, Train Accuracy: 50.00%\n",
      "Epoch [1/100], Step [59/145], Loss: 1.0522, Train Accuracy: 47.66%\n",
      "Epoch [1/100], Step [60/145], Loss: 1.0788, Train Accuracy: 41.41%\n",
      "Epoch [1/100], Step [61/145], Loss: 1.0597, Train Accuracy: 46.88%\n",
      "Epoch [1/100], Step [62/145], Loss: 1.0679, Train Accuracy: 39.84%\n",
      "Epoch [1/100], Step [63/145], Loss: 1.0620, Train Accuracy: 40.62%\n",
      "Epoch [1/100], Step [64/145], Loss: 1.0611, Train Accuracy: 40.62%\n",
      "Epoch [1/100], Step [65/145], Loss: 1.0654, Train Accuracy: 41.41%\n",
      "Epoch [1/100], Step [66/145], Loss: 1.0883, Train Accuracy: 44.53%\n",
      "Epoch [1/100], Step [67/145], Loss: 1.0813, Train Accuracy: 35.16%\n",
      "Epoch [1/100], Step [68/145], Loss: 1.0940, Train Accuracy: 35.94%\n",
      "Epoch [1/100], Step [69/145], Loss: 1.0695, Train Accuracy: 43.75%\n",
      "Epoch [1/100], Step [70/145], Loss: 1.0478, Train Accuracy: 41.41%\n",
      "Epoch [1/100], Step [71/145], Loss: 1.0431, Train Accuracy: 44.53%\n",
      "Epoch [1/100], Step [72/145], Loss: 1.0753, Train Accuracy: 40.62%\n",
      "Epoch [1/100], Step [73/145], Loss: 1.0799, Train Accuracy: 37.50%\n",
      "Epoch [1/100], Step [74/145], Loss: 1.0615, Train Accuracy: 39.84%\n",
      "Epoch [1/100], Step [75/145], Loss: 1.0477, Train Accuracy: 43.75%\n",
      "Epoch [1/100], Step [76/145], Loss: 1.0656, Train Accuracy: 40.62%\n",
      "Epoch [1/100], Step [77/145], Loss: 1.0722, Train Accuracy: 38.28%\n",
      "Epoch [1/100], Step [78/145], Loss: 1.0601, Train Accuracy: 40.62%\n",
      "Epoch [1/100], Step [79/145], Loss: 1.1137, Train Accuracy: 32.03%\n",
      "Epoch [1/100], Step [80/145], Loss: 1.1040, Train Accuracy: 38.28%\n",
      "Epoch [1/100], Step [81/145], Loss: 1.0768, Train Accuracy: 39.84%\n",
      "Epoch [1/100], Step [82/145], Loss: 1.0575, Train Accuracy: 44.53%\n",
      "Epoch [1/100], Step [83/145], Loss: 1.0794, Train Accuracy: 39.06%\n",
      "Epoch [1/100], Step [84/145], Loss: 1.0185, Train Accuracy: 46.09%\n",
      "Epoch [1/100], Step [85/145], Loss: 1.0664, Train Accuracy: 39.84%\n",
      "Epoch [1/100], Step [86/145], Loss: 1.0711, Train Accuracy: 36.72%\n",
      "Epoch [1/100], Step [87/145], Loss: 1.0415, Train Accuracy: 42.97%\n",
      "Epoch [1/100], Step [88/145], Loss: 1.0522, Train Accuracy: 38.28%\n",
      "Epoch [1/100], Step [89/145], Loss: 1.0882, Train Accuracy: 35.94%\n",
      "Epoch [1/100], Step [90/145], Loss: 1.0877, Train Accuracy: 36.72%\n",
      "Epoch [1/100], Step [91/145], Loss: 1.0465, Train Accuracy: 48.44%\n",
      "Epoch [1/100], Step [92/145], Loss: 1.0663, Train Accuracy: 41.41%\n",
      "Epoch [1/100], Step [93/145], Loss: 1.0602, Train Accuracy: 45.31%\n",
      "Epoch [1/100], Step [94/145], Loss: 1.0846, Train Accuracy: 39.06%\n",
      "Epoch [1/100], Step [95/145], Loss: 1.0570, Train Accuracy: 42.97%\n",
      "Epoch [1/100], Step [96/145], Loss: 1.0606, Train Accuracy: 42.19%\n",
      "Epoch [1/100], Step [97/145], Loss: 1.0376, Train Accuracy: 39.06%\n",
      "Epoch [1/100], Step [98/145], Loss: 1.0386, Train Accuracy: 46.09%\n",
      "Epoch [1/100], Step [99/145], Loss: 1.0504, Train Accuracy: 40.62%\n",
      "Epoch [1/100], Step [100/145], Loss: 1.0466, Train Accuracy: 50.00%\n",
      "Epoch [1/100], Step [101/145], Loss: 1.0533, Train Accuracy: 44.53%\n",
      "Epoch [1/100], Step [102/145], Loss: 1.0808, Train Accuracy: 44.53%\n",
      "Epoch [1/100], Step [103/145], Loss: 1.0546, Train Accuracy: 39.84%\n",
      "Epoch [1/100], Step [104/145], Loss: 1.0772, Train Accuracy: 37.50%\n",
      "Epoch [1/100], Step [105/145], Loss: 1.0807, Train Accuracy: 40.62%\n",
      "Epoch [1/100], Step [106/145], Loss: 1.0657, Train Accuracy: 42.97%\n",
      "Epoch [1/100], Step [107/145], Loss: 1.0598, Train Accuracy: 39.84%\n",
      "Epoch [1/100], Step [108/145], Loss: 1.0581, Train Accuracy: 40.62%\n",
      "Epoch [1/100], Step [109/145], Loss: 1.0802, Train Accuracy: 38.28%\n",
      "Epoch [1/100], Step [110/145], Loss: 1.0768, Train Accuracy: 38.28%\n",
      "Epoch [1/100], Step [111/145], Loss: 1.0428, Train Accuracy: 42.97%\n",
      "Epoch [1/100], Step [112/145], Loss: 1.0898, Train Accuracy: 38.28%\n",
      "Epoch [1/100], Step [113/145], Loss: 1.0458, Train Accuracy: 46.88%\n",
      "Epoch [1/100], Step [114/145], Loss: 1.0726, Train Accuracy: 39.06%\n",
      "Epoch [1/100], Step [115/145], Loss: 1.0759, Train Accuracy: 41.41%\n",
      "Epoch [1/100], Step [116/145], Loss: 1.0434, Train Accuracy: 43.75%\n",
      "Epoch [1/100], Step [117/145], Loss: 1.0789, Train Accuracy: 40.62%\n",
      "Epoch [1/100], Step [118/145], Loss: 1.0972, Train Accuracy: 32.03%\n",
      "Epoch [1/100], Step [119/145], Loss: 1.0742, Train Accuracy: 42.97%\n",
      "Epoch [1/100], Step [120/145], Loss: 1.0696, Train Accuracy: 38.28%\n",
      "Epoch [1/100], Step [121/145], Loss: 1.0787, Train Accuracy: 37.50%\n",
      "Epoch [1/100], Step [122/145], Loss: 1.0273, Train Accuracy: 38.28%\n",
      "Epoch [1/100], Step [123/145], Loss: 1.0654, Train Accuracy: 35.94%\n"
     ]
    },
    {
     "name": "stdout",
     "output_type": "stream",
     "text": [
      "Epoch [1/100], Step [124/145], Loss: 1.0440, Train Accuracy: 42.97%\n",
      "Epoch [1/100], Step [125/145], Loss: 1.0705, Train Accuracy: 40.62%\n",
      "Epoch [1/100], Step [126/145], Loss: 1.0465, Train Accuracy: 41.41%\n",
      "Epoch [1/100], Step [127/145], Loss: 1.0404, Train Accuracy: 41.41%\n",
      "Epoch [1/100], Step [128/145], Loss: 1.0022, Train Accuracy: 50.00%\n",
      "Epoch [1/100], Step [129/145], Loss: 1.0475, Train Accuracy: 49.22%\n",
      "Epoch [1/100], Step [130/145], Loss: 1.0695, Train Accuracy: 42.97%\n",
      "Epoch [1/100], Step [131/145], Loss: 1.0801, Train Accuracy: 38.28%\n",
      "Epoch [1/100], Step [132/145], Loss: 1.0394, Train Accuracy: 42.97%\n",
      "Epoch [1/100], Step [133/145], Loss: 1.0810, Train Accuracy: 37.50%\n",
      "Epoch [1/100], Step [134/145], Loss: 1.0512, Train Accuracy: 42.97%\n",
      "Epoch [1/100], Step [135/145], Loss: 1.0559, Train Accuracy: 38.28%\n",
      "Epoch [1/100], Step [136/145], Loss: 1.0748, Train Accuracy: 34.38%\n",
      "Epoch [1/100], Step [137/145], Loss: 1.0529, Train Accuracy: 46.09%\n",
      "Epoch [1/100], Step [138/145], Loss: 1.0049, Train Accuracy: 51.56%\n",
      "Epoch [1/100], Step [139/145], Loss: 1.0663, Train Accuracy: 43.75%\n",
      "Epoch [1/100], Step [140/145], Loss: 1.0334, Train Accuracy: 44.53%\n",
      "Epoch [1/100], Step [141/145], Loss: 1.0561, Train Accuracy: 44.53%\n",
      "Epoch [1/100], Step [142/145], Loss: 1.0679, Train Accuracy: 36.72%\n",
      "Epoch [1/100], Step [143/145], Loss: 1.0790, Train Accuracy: 39.06%\n",
      "Epoch [1/100], Step [144/145], Loss: 1.0699, Train Accuracy: 46.09%\n",
      "Epoch [1/100], Step [145/145], Loss: 1.0323, Train Accuracy: 38.10%\n"
     ]
    },
    {
     "ename": "KeyboardInterrupt",
     "evalue": "",
     "output_type": "error",
     "traceback": [
      "\u001b[1;31m---------------------------------------------------------------------------\u001b[0m",
      "\u001b[1;31mKeyboardInterrupt\u001b[0m                         Traceback (most recent call last)",
      "Input \u001b[1;32mIn [47]\u001b[0m, in \u001b[0;36m<cell line: 4>\u001b[1;34m()\u001b[0m\n\u001b[0;32m     13\u001b[0m loss_list\u001b[38;5;241m.\u001b[39mappend(loss\u001b[38;5;241m.\u001b[39mitem())\n\u001b[0;32m     15\u001b[0m \u001b[38;5;66;03m# Backprop and perform Adam optimisation\u001b[39;00m\n\u001b[1;32m---> 17\u001b[0m \u001b[43mloss\u001b[49m\u001b[38;5;241;43m.\u001b[39;49m\u001b[43mbackward\u001b[49m\u001b[43m(\u001b[49m\u001b[43m)\u001b[49m\n\u001b[0;32m     18\u001b[0m optimizer\u001b[38;5;241m.\u001b[39mstep()\n\u001b[0;32m     19\u001b[0m \u001b[38;5;66;03m# Track the accuracy\u001b[39;00m\n",
      "File \u001b[1;32m~\\Anaconda3\\envs\\proj7\\lib\\site-packages\\torch\\_tensor.py:396\u001b[0m, in \u001b[0;36mTensor.backward\u001b[1;34m(self, gradient, retain_graph, create_graph, inputs)\u001b[0m\n\u001b[0;32m    387\u001b[0m \u001b[38;5;28;01mif\u001b[39;00m has_torch_function_unary(\u001b[38;5;28mself\u001b[39m):\n\u001b[0;32m    388\u001b[0m     \u001b[38;5;28;01mreturn\u001b[39;00m handle_torch_function(\n\u001b[0;32m    389\u001b[0m         Tensor\u001b[38;5;241m.\u001b[39mbackward,\n\u001b[0;32m    390\u001b[0m         (\u001b[38;5;28mself\u001b[39m,),\n\u001b[1;32m   (...)\u001b[0m\n\u001b[0;32m    394\u001b[0m         create_graph\u001b[38;5;241m=\u001b[39mcreate_graph,\n\u001b[0;32m    395\u001b[0m         inputs\u001b[38;5;241m=\u001b[39minputs)\n\u001b[1;32m--> 396\u001b[0m \u001b[43mtorch\u001b[49m\u001b[38;5;241;43m.\u001b[39;49m\u001b[43mautograd\u001b[49m\u001b[38;5;241;43m.\u001b[39;49m\u001b[43mbackward\u001b[49m\u001b[43m(\u001b[49m\u001b[38;5;28;43mself\u001b[39;49m\u001b[43m,\u001b[49m\u001b[43m \u001b[49m\u001b[43mgradient\u001b[49m\u001b[43m,\u001b[49m\u001b[43m \u001b[49m\u001b[43mretain_graph\u001b[49m\u001b[43m,\u001b[49m\u001b[43m \u001b[49m\u001b[43mcreate_graph\u001b[49m\u001b[43m,\u001b[49m\u001b[43m \u001b[49m\u001b[43minputs\u001b[49m\u001b[38;5;241;43m=\u001b[39;49m\u001b[43minputs\u001b[49m\u001b[43m)\u001b[49m\n",
      "File \u001b[1;32m~\\Anaconda3\\envs\\proj7\\lib\\site-packages\\torch\\autograd\\__init__.py:173\u001b[0m, in \u001b[0;36mbackward\u001b[1;34m(tensors, grad_tensors, retain_graph, create_graph, grad_variables, inputs)\u001b[0m\n\u001b[0;32m    168\u001b[0m     retain_graph \u001b[38;5;241m=\u001b[39m create_graph\n\u001b[0;32m    170\u001b[0m \u001b[38;5;66;03m# The reason we repeat same the comment below is that\u001b[39;00m\n\u001b[0;32m    171\u001b[0m \u001b[38;5;66;03m# some Python versions print out the first line of a multi-line function\u001b[39;00m\n\u001b[0;32m    172\u001b[0m \u001b[38;5;66;03m# calls in the traceback and some print out the last line\u001b[39;00m\n\u001b[1;32m--> 173\u001b[0m \u001b[43mVariable\u001b[49m\u001b[38;5;241;43m.\u001b[39;49m\u001b[43m_execution_engine\u001b[49m\u001b[38;5;241;43m.\u001b[39;49m\u001b[43mrun_backward\u001b[49m\u001b[43m(\u001b[49m\u001b[43m  \u001b[49m\u001b[38;5;66;43;03m# Calls into the C++ engine to run the backward pass\u001b[39;49;00m\n\u001b[0;32m    174\u001b[0m \u001b[43m    \u001b[49m\u001b[43mtensors\u001b[49m\u001b[43m,\u001b[49m\u001b[43m \u001b[49m\u001b[43mgrad_tensors_\u001b[49m\u001b[43m,\u001b[49m\u001b[43m \u001b[49m\u001b[43mretain_graph\u001b[49m\u001b[43m,\u001b[49m\u001b[43m \u001b[49m\u001b[43mcreate_graph\u001b[49m\u001b[43m,\u001b[49m\u001b[43m \u001b[49m\u001b[43minputs\u001b[49m\u001b[43m,\u001b[49m\n\u001b[0;32m    175\u001b[0m \u001b[43m    \u001b[49m\u001b[43mallow_unreachable\u001b[49m\u001b[38;5;241;43m=\u001b[39;49m\u001b[38;5;28;43;01mTrue\u001b[39;49;00m\u001b[43m,\u001b[49m\u001b[43m \u001b[49m\u001b[43maccumulate_grad\u001b[49m\u001b[38;5;241;43m=\u001b[39;49m\u001b[38;5;28;43;01mTrue\u001b[39;49;00m\u001b[43m)\u001b[49m\n",
      "\u001b[1;31mKeyboardInterrupt\u001b[0m: "
     ]
    }
   ],
   "source": [
    "total_step = len(train_loader)\n",
    "loss_list = []\n",
    "acc_list = []\n",
    "for epoch in range(num_epochs):\n",
    "    for i, (signals, labels) in enumerate(train_loader):\n",
    "        optimizer.zero_grad()\n",
    "        # Run the forward pass\n",
    "        signals=signals\n",
    "        labels=labels\n",
    "        outputs = cnn(signals.double())\n",
    "        loss = criterion(outputs, labels.long())\n",
    "        \n",
    "        loss_list.append(loss.item())\n",
    "\n",
    "        # Backprop and perform Adam optimisation\n",
    "        \n",
    "        loss.backward()\n",
    "        optimizer.step()\n",
    "        # Track the accuracy\n",
    "        total = labels.size(0)\n",
    "        _, predicted = torch.max(outputs.data, 1)\n",
    "        correct = (predicted == labels.long()).sum().item()\n",
    "        acc_list.append(correct / total)\n",
    "\n",
    "        if (epoch+1) % 5 == 0 or epoch==0:\n",
    "            print('Epoch [{}/{}], Step [{}/{}], Loss: {:.4f}, Train Accuracy: {:.2f}%'\n",
    "                  .format(epoch + 1, num_epochs, i + 1, total_step, loss.item(),\n",
    "                          (correct / total) * 100))\n",
    "        "
   ]
  },
  {
   "cell_type": "code",
   "execution_count": 25,
   "metadata": {},
   "outputs": [
    {
     "name": "stdout",
     "output_type": "stream",
     "text": [
      "1\n",
      "Epoch [100/100], Step [1/1], Loss: 0.0686, Accuracy: 98.57%\n"
     ]
    }
   ],
   "source": [
    "total_step = len(test_loader)\n",
    "print(total_step)\n",
    "loss_list_test = []\n",
    "acc_list_test = []\n",
    "with torch.no_grad():\n",
    "    for i, (signals, labels) in enumerate(test_loader):\n",
    "        # Run the forward pass\n",
    "        signals=signals\n",
    "        labels=labels\n",
    "        outputs = cnn(signals.double())\n",
    "        loss = criterion(outputs, labels.long())\n",
    "        loss_list_test.append(loss.item())\n",
    "        if epoch%10 ==0:\n",
    "            print(loss)\n",
    "        total = labels.size(0)\n",
    "        _, predicted = torch.max(outputs.data, 1)\n",
    "        correct = (predicted == labels.long()).sum().item()\n",
    "        acc_list_test.append(correct / total)\n",
    "        if (epoch) % 1 == 0:\n",
    "            print('Epoch [{}/{}], Step [{}/{}], Loss: {:.4f}, Accuracy: {:.2f}%'\n",
    "                  .format(epoch + 1, num_epochs, i + 1, total_step, loss.item(),\n",
    "                          (correct / total) * 100))"
   ]
  },
  {
   "cell_type": "code",
   "execution_count": 26,
   "metadata": {},
   "outputs": [
    {
     "name": "stderr",
     "output_type": "stream",
     "text": [
      "/home/cmu/anaconda3/lib/python3.7/site-packages/torch/serialization.py:402: UserWarning: Couldn't retrieve source code for container of type CNN. It won't be checked for correctness upon loading.\n",
      "  \"type \" + obj.__name__ + \". It won't be checked \"\n"
     ]
    }
   ],
   "source": [
    "# if you need to save\n",
    "torch.save(cnn,'cnnTC3_fold3_45.pth')"
   ]
  },
  {
   "cell_type": "code",
   "execution_count": null,
   "metadata": {},
   "outputs": [],
   "source": []
  }
 ],
 "metadata": {
  "kernelspec": {
   "display_name": "Python 3 (ipykernel)",
   "language": "python",
   "name": "python3"
  },
  "language_info": {
   "codemirror_mode": {
    "name": "ipython",
    "version": 3
   },
   "file_extension": ".py",
   "mimetype": "text/x-python",
   "name": "python",
   "nbconvert_exporter": "python",
   "pygments_lexer": "ipython3",
   "version": "3.9.7"
  }
 },
 "nbformat": 4,
 "nbformat_minor": 4
}
